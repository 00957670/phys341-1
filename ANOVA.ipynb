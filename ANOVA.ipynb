{
 "cells": [
  {
   "cell_type": "markdown",
   "metadata": {},
   "source": [
    "# Analysis of Variance\n",
    "\n",
    "Suppose that we have multiple \"groups\" of data.  They may all come from the same population (and thus we would expect them all to have self-consistent sample means and variances.  Or, they may come from different populations, in which case we might expect their sample means and variances to differ from one another.  The process of ANalysis Of VAriance (ANOVA) is designed to assess which of these two situations exist.\n",
    "\n",
    "We begin by assuming a null hypothesis - all of the groups come from the same population, and thus we expect the sample means to be consistent with one another.  Of course, we still expect some variance in the data WITHIN each group, due to random statistical fluctuations in any sampling experiment.\n",
    "\n",
    "Imagine an experiment in which there are three groups of data, all taken from the same population, which has mu=100 and sigma=10"
   ]
  },
  {
   "cell_type": "code",
   "execution_count": 1,
   "metadata": {},
   "outputs": [
    {
     "name": "stdout",
     "output_type": "stream",
     "text": [
      "Variance of all 300 data points = 103.68\n"
     ]
    }
   ],
   "source": [
    "import numpy as np\n",
    "import matplotlib.pyplot as plt\n",
    "import scipy.stats as stats \n",
    "\n",
    "mu = 100\n",
    "sigma = 10\n",
    "N1 = 300\n",
    "\n",
    "a1 = 3\n",
    "n1 = 100\n",
    "\n",
    "data1 = stats.norm.rvs(size=N1,loc=mu,scale=sigma)\n",
    "group1a = data1[0:int(N1/3)]\n",
    "group1b = data1[int(N1/3):int(2*N1/3)]\n",
    "group1c = data1[int(2*N1/3):N1]\n",
    "\n",
    "x1a = np.linspace(1,int(N1/3),int(N1/3))\n",
    "x1b = np.linspace(int(N1/3)+1,int(2*N1/3),int(N1/3))\n",
    "x1c = np.linspace(int(2*N1/3)+1,N1,int(N1/3))\n",
    "\n",
    "plt.scatter(x1a,group1a)\n",
    "plt.scatter(x1b,group1b)\n",
    "plt.scatter(x1c,group1c)\n",
    "\n",
    "print (\"Variance of all 300 data points = %0.2f\" % (data1.var()))"
   ]
  },
  {
   "cell_type": "markdown",
   "metadata": {},
   "source": [
    "Now, imagine a second experiment, where there are three groups of data.  The three groups are taken from three different populations, with means of mu = (100, 110, 90).  The standard deviation of each of these populations is sigma = 6.0 "
   ]
  },
  {
   "cell_type": "code",
   "execution_count": 2,
   "metadata": {},
   "outputs": [
    {
     "name": "stdout",
     "output_type": "stream",
     "text": [
      "Variance of all 300 data points = 42.26\n"
     ]
    },
    {
     "data": {
      "image/png": "[encoded data removed]",
      "text/plain": [
       "<Figure size 432x288 with 1 Axes>"
      ]
     },
     "metadata": {
      "needs_background": "light"
     },
     "output_type": "display_data"
    }
   ],
   "source": [
    "mu1 = 100\n",
    "mu2 = 103\n",
    "mu3 = 97\n",
    "\n",
    "sigma = 6.2\n",
    "N2 = 300\n",
    "\n",
    "a2 = 3\n",
    "n2 = 100\n",
    "\n",
    "group2a = stats.norm.rvs(size=int(N2/3),loc=mu1,scale=sigma)\n",
    "group2b = stats.norm.rvs(size=int(N2/3),loc=mu2,scale=sigma)\n",
    "group2c = stats.norm.rvs(size=int(N2/3),loc=mu3,scale=sigma)\n",
    "\n",
    "data2 = np.concatenate([group2a,group2b,group2c])\n",
    "\n",
    "x2a = np.linspace(1,int(N2/3),int(N2/3))\n",
    "x2b = np.linspace(int(N2/3)+1,int(2*N2/3),int(N2/3))\n",
    "x2c = np.linspace(int(2*N2/3)+1,int(N2),int(N2/3))\n",
    "\n",
    "plt.scatter(x2a,group2a)\n",
    "plt.scatter(x2b,group2b)\n",
    "plt.scatter(x2c,group2c)\n",
    "\n",
    "print (\"Variance of all 300 data points = %0.2f\" % (data2.var()))"
   ]
  },
  {
   "cell_type": "markdown",
   "metadata": {},
   "source": [
    "## The question is:  How do we differentiate between these two cases?"
   ]
  },
  {
   "cell_type": "markdown",
   "metadata": {},
   "source": [
    "We will introduce some new terminology:\n",
    "\n",
    "The number of data points within each group = $n$\n",
    "\n",
    "The number of groups = $a$\n",
    "\n",
    "The total number of data points = $N$ = $a \\cdot n$\n",
    "\n",
    "The overall average of all $N$ data points = $\\bar{\\bar{x}} = \\frac{1}{N} \\sum_{i=1}^{a} \\sum_{j=1}^{n} {x_{ij}}$\n",
    "\n",
    "The average of the $n$ data points for a group = $\\bar{x}_i = \\frac{1}{N} \\sum_{j=1}^{n} {x_{ij}}$\n",
    "\n",
    "Recall the definition of variance:\n",
    "\n",
    "$s^2 = \\frac{1}{N_{dof}} \\sum_{i=1}^{a} \\sum_{j=1}^{n} {(x_{ij}-\\bar{\\bar{x}})^2} = \\frac{SS_{total}}{N_{dof}}$\n",
    "\n",
    "where we have introduced the terminology \"SS\" = \"Sum of Squares\" to indicate the double summation term. $SS_{total}$ represents the total variance of the entire data set with respect to the overall sample mean of all data points.\n",
    "\n",
    "We may also calculate two other sums of squares - one related to the statistical variation WITHIN groups, and a second related to the variation BETWEEN groups:\n",
    "\n",
    "$SS_{error} = \\sum_{i=1}^{a} \\sum_{j=1}^{n}(x_{ij} - \\bar{x}_i)^2$\n",
    "\n",
    "$SS_{treatment} = \\sum_{i=1}^{a} n(\\bar{x}_i - \\bar{\\bar{x}})^2$\n",
    "\n",
    "One can show that:\n",
    "\n",
    "$SS_{total} = SS_{treatment} + SS_{error}$"
   ]
  },
  {
   "cell_type": "code",
   "execution_count": 3,
   "metadata": {},
   "outputs": [
    {
     "name": "stdout",
     "output_type": "stream",
     "text": [
      "SS1_total =  31105.16563763399\n",
      "Xbarbar1 =  99.7844913681845\n",
      "\n",
      "SS1_treatment =  348.80128464737106\n",
      "SS1_error =  30756.36435298659\n",
      "\n",
      "Total Check:  31105.165637633963 31105.16563763399\n"
     ]
    }
   ],
   "source": [
    "dof1 = N1 - 1\n",
    "SS1_total = dof1*data1.var(ddof=1)\n",
    "print (\"SS1_total = \",SS1_total)\n",
    "\n",
    "xbarbar1 = data1.mean()\n",
    "print (\"Xbarbar1 = \",xbarbar1)\n",
    "\n",
    "t1a = int(N1/3)*(group1a.mean()-xbarbar1)**2\n",
    "t1b = int(N1/3)*(group1b.mean()-xbarbar1)**2\n",
    "t1c = int(N1/3)*(group1c.mean()-xbarbar1)**2\n",
    "\n",
    "SS1_treatment = t1a + t1b + t1c\n",
    "print()\n",
    "print (\"SS1_treatment = \",SS1_treatment)\n",
    "\n",
    "SS1_error = 0.0\n",
    "for x in group1a:\n",
    "    SS1_error += (x - group1a.mean())**2\n",
    "for x in group1b:\n",
    "    SS1_error += (x - group1b.mean())**2\n",
    "for x in group1c:\n",
    "    SS1_error += (x - group1c.mean())**2\n",
    "    \n",
    "print (\"SS1_error = \",SS1_error)\n",
    "\n",
    "print ()\n",
    "print (\"Total Check: \",SS1_error + SS1_treatment, SS1_total)"
   ]
  },
  {
   "cell_type": "code",
   "execution_count": 4,
   "metadata": {},
   "outputs": [
    {
     "name": "stdout",
     "output_type": "stream",
     "text": [
      "SS2_total =  12676.882764631124\n",
      "Xbarbar2 =  99.93275751740367\n",
      "\n",
      "SS2_treatment =  1436.2449522203497\n",
      "SS2_error = 11240.63781241077\n",
      "\n",
      "Total Check:  12676.88276463112 12676.882764631124\n"
     ]
    }
   ],
   "source": [
    "dof2 = N2 - 1\n",
    "SS2_total = dof2*data2.var(ddof=1)\n",
    "print (\"SS2_total = \",SS2_total)\n",
    "\n",
    "xbarbar2 = data2.mean()\n",
    "print (\"Xbarbar2 = \",xbarbar2)\n",
    "\n",
    "sst = 0.0\n",
    "for x in data2:\n",
    "    sst += (x-xbarbar2)**2\n",
    "\n",
    "t2a = int(N2/3)*(group2a.mean()-xbarbar2)**2\n",
    "t2b = int(N2/3)*(group2b.mean()-xbarbar2)**2\n",
    "t2c = int(N2/3)*(group2c.mean()-xbarbar2)**2\n",
    "\n",
    "SS2_treatment = t2a + t2b + t2c\n",
    "print()\n",
    "print (\"SS2_treatment = \",SS2_treatment)\n",
    "\n",
    "SS2_error = 0.0\n",
    "for x in group2a:\n",
    "    SS2_error += (x - group2a.mean())**2\n",
    "for x in group2b:\n",
    "    SS2_error += (x - group2b.mean())**2\n",
    "for x in group2c:\n",
    "    SS2_error += (x - group2c.mean())**2\n",
    "    \n",
    "print (\"SS2_error =\",SS2_error)\n",
    "\n",
    "print()\n",
    "print (\"Total Check: \",SS2_error + SS2_treatment, SS2_total)"
   ]
  },
  {
   "cell_type": "markdown",
   "metadata": {},
   "source": [
    "### The $SS_{treatment}$ represents the \"signal\" that we are looking for, whereas $SS_{error}$ represents the \"noise\".  We can use these to calculate a signal to noise ratio for the data.  \n",
    "\n",
    "We begin by calculating the MEAN SQUARE values:\n",
    "\n",
    "$MS_{error} = N_{dof}^{error} \\cdot SS_{error}$\n",
    "\n",
    "$MS_{treatment} = N_{dof}^{treatment} \\cdot SS_{treatment}$\n",
    "\n",
    "where\n",
    "\n",
    "$N_{dof}^{treatment} = (a - 1)$\n",
    "\n",
    "$N_{dof}^{total} = N - 1$\n",
    "\n",
    "$N_{dof}^{error} = N_{dof}^{total} - N_{dof}^{treatment}$\n",
    "\n",
    "### The signal to noise ratio is the ratio of the treatment mean square to the error mean square, and is in fact an F value!\n",
    "\n",
    "$F_{S/N} = \\frac{MS_{treatment}}{MS_{error}}$"
   ]
  },
  {
   "cell_type": "code",
   "execution_count": 5,
   "metadata": {},
   "outputs": [
    {
     "name": "stdout",
     "output_type": "stream",
     "text": [
      "Degrees of Freedom: total,treatment,error =  299 2 297\n"
     ]
    }
   ],
   "source": [
    "dof1_treatment = a1 - 1\n",
    "dof1_total = N1 - 1\n",
    "dof1_error = dof1_total - dof1_treatment\n",
    "\n",
    "print (\"Degrees of Freedom: total,treatment,error = \",dof1_total,dof1_treatment,dof1_error)"
   ]
  },
  {
   "cell_type": "code",
   "execution_count": 6,
   "metadata": {},
   "outputs": [
    {
     "name": "stdout",
     "output_type": "stream",
     "text": [
      "Mean Squares:  174.40064232368553 103.55678233328818\n",
      "F Signal/Noise = 1.684 \n",
      "Critical F-value = 3.026\n",
      "Pvalue = 0.187\n"
     ]
    }
   ],
   "source": [
    "MS1_error = SS1_error/dof1_error\n",
    "MS1_treatment = SS1_treatment/dof1_treatment\n",
    "\n",
    "print (\"Mean Squares: \",MS1_treatment,MS1_error)\n",
    "\n",
    "fSN = MS1_treatment/MS1_error\n",
    "\n",
    "print (\"F Signal/Noise = %0.3f \" % fSN)\n",
    "\n",
    "alpha = 0.05\n",
    "\n",
    "fdist = stats.f(dof1_treatment,dof1_error)\n",
    "fhigh = fdist.ppf(1-alpha)\n",
    "\n",
    "print (\"Critical F-value = %0.3f\" % (fhigh))\n",
    "\n",
    "if (fSN > 1):\n",
    "    pvalue = (1-fdist.cdf(fSN))\n",
    "else:\n",
    "    pvalue = fdist.cdf(fSN)\n",
    "    \n",
    "print (\"Pvalue = %0.3f\" % (pvalue))"
   ]
  },
  {
   "cell_type": "code",
   "execution_count": 7,
   "metadata": {},
   "outputs": [
    {
     "name": "stdout",
     "output_type": "stream",
     "text": [
      "Degrees of Freedom: total,treatment,error =  299 2 297\n"
     ]
    }
   ],
   "source": [
    "dof2_treatment = a2 - 1\n",
    "dof2_total = N2 - 1\n",
    "dof2_error = dof2_total - dof2_treatment\n",
    "\n",
    "print (\"Degrees of Freedom: total,treatment,error = \",dof2_total,dof2_treatment,dof2_error)"
   ]
  },
  {
   "cell_type": "code",
   "execution_count": 8,
   "metadata": {},
   "outputs": [
    {
     "name": "stdout",
     "output_type": "stream",
     "text": [
      "Mean Squares:  718.1224761101748 37.847265361652425\n",
      "F Signal/Noise = 18.974 \n",
      "Critical F-value = 3.026\n",
      "Pvalue = 0.000\n"
     ]
    }
   ],
   "source": [
    "MS2_error = SS2_error/dof2_error\n",
    "MS2_treatment = SS2_treatment/dof2_treatment\n",
    "\n",
    "print (\"Mean Squares: \",MS2_treatment,MS2_error)\n",
    "\n",
    "fSN = MS2_treatment/MS2_error\n",
    "\n",
    "print (\"F Signal/Noise = %0.3f \" % fSN)\n",
    "\n",
    "alpha = 0.05\n",
    "\n",
    "fdist = stats.f(dof2_treatment,dof2_error)\n",
    "fhigh = fdist.ppf(1-alpha)\n",
    "\n",
    "print (\"Critical F-value = %0.3f\" % (fhigh))\n",
    "\n",
    "if (fSN > 1):\n",
    "    pvalue = (1-fdist.cdf(fSN))\n",
    "else:\n",
    "    pvalue = fdist.cdf(fSN)\n",
    "    \n",
    "print (\"Pvalue = %0.3f\" % (pvalue))"
   ]
  },
  {
   "cell_type": "markdown",
   "metadata": {},
   "source": [
    "# Note the incredible power of this methodology in revealing differences between groups that are not visibly obvious!!!!\n",
    "\n",
    "As you probably could have guessed, there are built in Python Stats functions that can make this process considerably easier!"
   ]
  },
  {
   "cell_type": "code",
   "execution_count": 9,
   "metadata": {},
   "outputs": [
    {
     "name": "stdout",
     "output_type": "stream",
     "text": [
      "F Signal/Noise = 1.684 \n",
      "Pvalue = 0.187\n"
     ]
    }
   ],
   "source": [
    "F_statistic, pVal = stats.f_oneway(group1a, group1b, group1c)\n",
    "\n",
    "print (\"F Signal/Noise = %0.3f \" % F_statistic)\n",
    "print (\"Pvalue = %0.3f\" % (pVal))"
   ]
  },
  {
   "cell_type": "code",
   "execution_count": 10,
   "metadata": {},
   "outputs": [
    {
     "name": "stdout",
     "output_type": "stream",
     "text": [
      "F Signal/Noise = 18.974 \n",
      "Pvalue = 0.000\n"
     ]
    }
   ],
   "source": [
    "F_statistic, pVal = stats.f_oneway(group2a, group2b, group2c)\n",
    "\n",
    "print (\"F Signal/Noise = %0.3f \" % F_statistic)\n",
    "print (\"Pvalue = %0.3f\" % (pVal))"
   ]
  },
  {
   "cell_type": "code",
   "execution_count": 11,
   "metadata": {},
   "outputs": [
    {
     "name": "stdout",
     "output_type": "stream",
     "text": [
      "                 df        sum_sq     mean_sq         F    PR(>F)\n",
      "C(treatment)    2.0    348.801285  174.400642  1.684106  0.187378\n",
      "Residual      297.0  30756.364353  103.556782       NaN       NaN\n"
     ]
    }
   ],
   "source": [
    "groupA = group1a\n",
    "groupB = group1b\n",
    "groupC = group1c\n",
    "\n",
    "a = 3\n",
    "n = 100\n",
    "\n",
    "idA = np.ones(n)\n",
    "idB = 2.0*np.ones(n)\n",
    "idC = 3.0*np.ones(n)\n",
    "\n",
    "data = np.concatenate([groupA,groupB,groupC])\n",
    "id = np.concatenate([idA,idB,idC])\n",
    "\n",
    "data2 = np.transpose(np.vstack((data,id)))\n",
    "\n",
    "import pandas as pd\n",
    "from statsmodels.formula.api import ols\n",
    "from statsmodels.stats.anova import anova_lm\n",
    "\n",
    "df = pd.DataFrame(data2,columns=['value','treatment'])\n",
    "model = ols('value ~ C(treatment)',df).fit()\n",
    "anovaResults = anova_lm(model)\n",
    "\n",
    "print (anovaResults)"
   ]
  },
  {
   "cell_type": "code",
   "execution_count": 12,
   "metadata": {},
   "outputs": [
    {
     "name": "stdout",
     "output_type": "stream",
     "text": [
      "                 df        sum_sq     mean_sq          F        PR(>F)\n",
      "C(treatment)    2.0   1436.244952  718.122476  18.974224  1.758346e-08\n",
      "Residual      297.0  11240.637812   37.847265        NaN           NaN\n"
     ]
    }
   ],
   "source": [
    "groupA = group2a\n",
    "groupB = group2b\n",
    "groupC = group2c\n",
    "\n",
    "a = 3\n",
    "n = 100\n",
    "\n",
    "idA = np.ones(n)\n",
    "idB = 2.0*np.ones(n)\n",
    "idC = 3.0*np.ones(n)\n",
    "\n",
    "data = np.concatenate([groupA,groupB,groupC])\n",
    "id = np.concatenate([idA,idB,idC])\n",
    "\n",
    "data2 = np.transpose(np.vstack((data,id)))\n",
    "\n",
    "import pandas as pd\n",
    "from statsmodels.formula.api import ols\n",
    "from statsmodels.stats.anova import anova_lm\n",
    "\n",
    "df = pd.DataFrame(data2,columns=['value','treatment'])\n",
    "model = ols('value ~ C(treatment)',df).fit()\n",
    "anovaResults = anova_lm(model)\n",
    "\n",
    "print (anovaResults)"
   ]
  },
  {
   "cell_type": "code",
   "execution_count": null,
   "metadata": {},
   "outputs": [],
   "source": []
  }
 ],
 "metadata": {
  "kernelspec": {
   "display_name": "Python 3",
   "language": "python",
   "name": "python3"
  },
  "language_info": {
   "codemirror_mode": {
    "name": "ipython",
    "version": 3
   },
   "file_extension": ".py",
   "mimetype": "text/x-python",
   "name": "python",
   "nbconvert_exporter": "python",
   "pygments_lexer": "ipython3",
   "version": "3.6.8"
  }
 },
 "nbformat": 4,
 "nbformat_minor": 2
}
