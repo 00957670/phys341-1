{
 "cells": [
  {
   "cell_type": "markdown",
   "metadata": {},
   "source": [
    "# Analysis of Variance\n",
    "\n",
    "Suppose that we have multiple \"groups\" of data.  They may all come from the same population (and thus we would expect them all to have self-consistent sample means and variances.  Or, they may come from different populations, in which case we might expect their sample means and variances to differ from one another.  The process of ANalysis Of VAriance (ANOVA) is designed to assess which of these two situations exist.\n",
    "\n",
    "We begin by assuming a null hypothesis - all of the groups come from the same population, and thus we expect the sample means to be consistent with one another.  Of course, we still expect some variance in the data WITHIN each group, due to random statistical fluctuations in any sampling experiment.\n",
    "\n",
    "Imagine an experiment in which there are three groups of data, all taken from the same population, which has mu=100 and sigma=10"
   ]
  },
  {
   "cell_type": "code",
   "execution_count": 1,
   "metadata": {},
   "outputs": [
    {
     "name": "stdout",
     "output_type": "stream",
     "text": [
      "Variance of all 300 data points = 91.73\n"
     ]
    }
   ],
   "source": [
    "import numpy as np\n",
    "import matplotlib.pyplot as plt\n",
    "import scipy.stats as stats \n",
    "\n",
    "mu = 100\n",
    "sigma = 10\n",
    "N1 = 300\n",
    "\n",
    "a1 = 3\n",
    "n1 = 100\n",
    "\n",
    "data1 = stats.norm.rvs(size=N1,loc=mu,scale=sigma)\n",
    "group1a = data1[0:int(N1/3)]\n",
    "group1b = data1[int(N1/3):int(2*N1/3)]\n",
    "group1c = data1[int(2*N1/3):N1]\n",
    "\n",
    "x1a = np.linspace(1,int(N1/3),int(N1/3))\n",
    "x1b = np.linspace(int(N1/3)+1,int(2*N1/3),int(N1/3))\n",
    "x1c = np.linspace(int(2*N1/3)+1,N1,int(N1/3))\n",
    "\n",
    "plt.scatter(x1a,group1a)\n",
    "plt.scatter(x1b,group1b)\n",
    "plt.scatter(x1c,group1c)\n",
    "\n",
    "print (\"Variance of all 300 data points = %0.2f\" % (data1.var()))"
   ]
  },
  {
   "cell_type": "markdown",
   "metadata": {},
   "source": [
    "Now, imagine a second experiment, where there are three groups of data.  The three groups are taken from three different populations, with means of mu = (100, 110, 90).  The standard deviation of each of these populations is sigma = 6.0 "
   ]
  },
  {
   "cell_type": "code",
   "execution_count": 2,
   "metadata": {},
   "outputs": [
    {
     "name": "stdout",
     "output_type": "stream",
     "text": [
      "Variance of all 300 data points = 39.77\n"
     ]
    },
    {
     "data": {
      "image/png": "[encoded data removed]",
      "text/plain": [
       "<Figure size 432x288 with 1 Axes>"
      ]
     },
     "metadata": {
      "needs_background": "light"
     },
     "output_type": "display_data"
    }
   ],
   "source": [
    "mu1 = 100\n",
    "mu2 = 103\n",
    "mu3 = 97\n",
    "\n",
    "sigma = 6.2\n",
    "N2 = 300\n",
    "\n",
    "a2 = 3\n",
    "n2 = 100\n",
    "\n",
    "group2a = stats.norm.rvs(size=int(N2/3),loc=mu1,scale=sigma)\n",
    "group2b = stats.norm.rvs(size=int(N2/3),loc=mu2,scale=sigma)\n",
    "group2c = stats.norm.rvs(size=int(N2/3),loc=mu3,scale=sigma)\n",
    "\n",
    "data2 = np.concatenate([group2a,group2b,group2c])\n",
    "\n",
    "x2a = np.linspace(1,int(N2/3),int(N2/3))\n",
    "x2b = np.linspace(int(N2/3)+1,int(2*N2/3),int(N2/3))\n",
    "x2c = np.linspace(int(2*N2/3)+1,int(N2),int(N2/3))\n",
    "\n",
    "plt.scatter(x2a,group2a)\n",
    "plt.scatter(x2b,group2b)\n",
    "plt.scatter(x2c,group2c)\n",
    "\n",
    "print (\"Variance of all 300 data points = %0.2f\" % (data2.var()))"
   ]
  },
  {
   "cell_type": "markdown",
   "metadata": {},
   "source": [
    "## The question is:  How do we differentiate between these two cases?"
   ]
  },
  {
   "cell_type": "markdown",
   "metadata": {},
   "source": [
    "We will introduce some new terminology:\n",
    "\n",
    "The number of data points within each group = $n$\n",
    "\n",
    "The number of groups = $a$\n",
    "\n",
    "The total number of data points = $N$ = $a \\cdot n$\n",
    "\n",
    "The overall average of all $N$ data points = $\\bar{\\bar{x}} = \\frac{1}{N} \\sum_{i=1}^{a} \\sum_{j=1}^{n} {x_{ij}}$\n",
    "\n",
    "The average of the $n$ data points for a group = $\\bar{x}_i = \\frac{1}{N} \\sum_{j=1}^{n} {x_{ij}}$\n",
    "\n",
    "Recall the definition of variance:\n",
    "\n",
    "$s^2 = \\frac{1}{N_{dof}} \\sum_{i=1}^{a} \\sum_{j=1}^{n} {(x_{ij}-\\bar{\\bar{x}})^2} = \\frac{SS_{total}}{N_{dof}}$\n",
    "\n",
    "where we have introduced the terminology \"SS\" = \"Sum of Squares\" to indicate the double summation term. $SS_{total}$ represents the total variance of the entire data set with respect to the overall sample mean of all data points.\n",
    "\n",
    "We may also calculate two other sums of squares - one related to the statistical variation WITHIN groups, and a second related to the variation BETWEEN groups:\n",
    "\n",
    "$SS_{error} = \\sum_{i=1}^{a} \\sum_{j=1}^{n}(x_{ij} - \\bar{x}_i)^2$\n",
    "\n",
    "$SS_{treatment} = \\sum_{i=1}^{a} n(\\bar{x}_i - \\bar{\\bar{x}})^2$\n",
    "\n",
    "One can show that:\n",
    "\n",
    "$SS_{total} = SS_{treatment} + SS_{error}$"
   ]
  },
  {
   "cell_type": "code",
   "execution_count": 3,
   "metadata": {},
   "outputs": [
    {
     "name": "stdout",
     "output_type": "stream",
     "text": [
      "SS1_total =  27519.773250054393\n",
      "Xbarbar1 =  100.2781139738448\n",
      "\n",
      "SS1_treatment =  92.58925411205409\n",
      "SS1_error =  27427.183995942334\n",
      "\n",
      "Total Check:  27519.77325005439 27519.773250054393\n"
     ]
    }
   ],
   "source": [
    "dof1 = N1 - 1\n",
    "SS1_total = dof1*data1.var(ddof=1)\n",
    "print (\"SS1_total = \",SS1_total)\n",
    "\n",
    "xbarbar1 = data1.mean()\n",
    "print (\"Xbarbar1 = \",xbarbar1)\n",
    "\n",
    "t1a = int(N1/3)*(group1a.mean()-xbarbar1)**2\n",
    "t1b = int(N1/3)*(group1b.mean()-xbarbar1)**2\n",
    "t1c = int(N1/3)*(group1c.mean()-xbarbar1)**2\n",
    "\n",
    "SS1_treatment = t1a + t1b + t1c\n",
    "print()\n",
    "print (\"SS1_treatment = \",SS1_treatment)\n",
    "\n",
    "SS1_error = 0.0\n",
    "for x in group1a:\n",
    "    SS1_error += (x - group1a.mean())**2\n",
    "for x in group1b:\n",
    "    SS1_error += (x - group1b.mean())**2\n",
    "for x in group1c:\n",
    "    SS1_error += (x - group1c.mean())**2\n",
    "    \n",
    "print (\"SS1_error = \",SS1_error)\n",
    "\n",
    "print ()\n",
    "print (\"Total Check: \",SS1_error + SS1_treatment, SS1_total)"
   ]
  },
  {
   "cell_type": "code",
   "execution_count": 4,
   "metadata": {},
   "outputs": [
    {
     "name": "stdout",
     "output_type": "stream",
     "text": [
      "SS2_total =  11931.49707257073\n",
      "Xbarbar2 =  100.1937756339144\n",
      "\n",
      "SS2_treatment =  2017.3848812365463\n",
      "SS2_error = 9914.112191334156\n",
      "\n",
      "Total Check:  11931.497072570703 11931.49707257073\n"
     ]
    }
   ],
   "source": [
    "dof2 = N2 - 1\n",
    "SS2_total = dof2*data2.var(ddof=1)\n",
    "print (\"SS2_total = \",SS2_total)\n",
    "\n",
    "xbarbar2 = data2.mean()\n",
    "print (\"Xbarbar2 = \",xbarbar2)\n",
    "\n",
    "sst = 0.0\n",
    "for x in data2:\n",
    "    sst += (x-xbarbar2)**2\n",
    "\n",
    "t2a = int(N2/3)*(group2a.mean()-xbarbar2)**2\n",
    "t2b = int(N2/3)*(group2b.mean()-xbarbar2)**2\n",
    "t2c = int(N2/3)*(group2c.mean()-xbarbar2)**2\n",
    "\n",
    "SS2_treatment = t2a + t2b + t2c\n",
    "print()\n",
    "print (\"SS2_treatment = \",SS2_treatment)\n",
    "\n",
    "SS2_error = 0.0\n",
    "for x in group2a:\n",
    "    SS2_error += (x - group2a.mean())**2\n",
    "for x in group2b:\n",
    "    SS2_error += (x - group2b.mean())**2\n",
    "for x in group2c:\n",
    "    SS2_error += (x - group2c.mean())**2\n",
    "    \n",
    "print (\"SS2_error =\",SS2_error)\n",
    "\n",
    "print()\n",
    "print (\"Total Check: \",SS2_error + SS2_treatment, SS2_total)"
   ]
  },
  {
   "cell_type": "markdown",
   "metadata": {},
   "source": [
    "### The $SS_{treatment}$ represents the \"signal\" that we are looking for, whereas $SS_{error}$ represents the \"noise\".  We can use these to calculate a signal to noise ratio for the data.  \n",
    "\n",
    "We begin by calculating the MEAN SQUARE values:\n",
    "\n",
    "$MS_{error} = N_{dof}^{error} \\cdot SS_{error}$\n",
    "\n",
    "$MS_{treatment} = N_{dof}^{treatment} \\cdot SS_{treatment}$\n",
    "\n",
    "where\n",
    "\n",
    "$N_{dof}^{treatment} = (a - 1)$\n",
    "\n",
    "$N_{dof}^{total} = N - 1$\n",
    "\n",
    "$N_{dof}^{error} = N_{dof}^{total} - N_{dof}^{treatment}$\n",
    "\n",
    "### The signal to noise ratio is the ratio of the treatment mean square to the error mean square, and is in fact an F value!\n",
    "\n",
    "$F_{S/N} = \\frac{MS_{treatment}}{MS_{error}}$"
   ]
  },
  {
   "cell_type": "code",
   "execution_count": 5,
   "metadata": {},
   "outputs": [
    {
     "name": "stdout",
     "output_type": "stream",
     "text": [
      "Degrees of Freedom: total,treatment,error =  299 2 297\n"
     ]
    }
   ],
   "source": [
    "dof1_treatment = a1 - 1\n",
    "dof1_total = N1 - 1\n",
    "dof1_error = dof1_total - dof1_treatment\n",
    "\n",
    "print (\"Degrees of Freedom: total,treatment,error = \",dof1_total,dof1_treatment,dof1_error)"
   ]
  },
  {
   "cell_type": "code",
   "execution_count": 6,
   "metadata": {},
   "outputs": [
    {
     "name": "stdout",
     "output_type": "stream",
     "text": [
      "Mean Squares:  46.294627056027046 92.3474208617587\n",
      "F Signal/Noise = 0.501 \n",
      "Critical F-value = 3.026\n",
      "Pvalue = 0.394\n"
     ]
    }
   ],
   "source": [
    "MS1_error = SS1_error/dof1_error\n",
    "MS1_treatment = SS1_treatment/dof1_treatment\n",
    "\n",
    "print (\"Mean Squares: \",MS1_treatment,MS1_error)\n",
    "\n",
    "fSN = MS1_treatment/MS1_error\n",
    "\n",
    "print (\"F Signal/Noise = %0.3f \" % fSN)\n",
    "\n",
    "alpha = 0.05\n",
    "\n",
    "fdist = stats.f(dof1_treatment,dof1_error)\n",
    "fhigh = fdist.ppf(1-alpha)\n",
    "\n",
    "print (\"Critical F-value = %0.3f\" % (fhigh))\n",
    "\n",
    "if (fSN > 1):\n",
    "    pvalue = (1-fdist.cdf(fSN))\n",
    "else:\n",
    "    pvalue = fdist.cdf(fSN)\n",
    "    \n",
    "print (\"Pvalue = %0.3f\" % (pvalue))"
   ]
  },
  {
   "cell_type": "code",
   "execution_count": 7,
   "metadata": {},
   "outputs": [
    {
     "name": "stdout",
     "output_type": "stream",
     "text": [
      "Degrees of Freedom: total,treatment,error =  299 2 297\n"
     ]
    }
   ],
   "source": [
    "dof2_treatment = a2 - 1\n",
    "dof2_total = N2 - 1\n",
    "dof2_error = dof2_total - dof2_treatment\n",
    "\n",
    "print (\"Degrees of Freedom: total,treatment,error = \",dof2_total,dof2_treatment,dof2_error)"
   ]
  },
  {
   "cell_type": "code",
   "execution_count": 8,
   "metadata": {},
   "outputs": [
    {
     "name": "stdout",
     "output_type": "stream",
     "text": [
      "Mean Squares:  1008.6924406182732 33.38084912907123\n",
      "F Signal/Noise = 30.218 \n",
      "Critical F-value = 3.026\n",
      "Pvalue = 0.000\n"
     ]
    }
   ],
   "source": [
    "MS2_error = SS2_error/dof2_error\n",
    "MS2_treatment = SS2_treatment/dof2_treatment\n",
    "\n",
    "print (\"Mean Squares: \",MS2_treatment,MS2_error)\n",
    "\n",
    "fSN = MS2_treatment/MS2_error\n",
    "\n",
    "print (\"F Signal/Noise = %0.3f \" % fSN)\n",
    "\n",
    "alpha = 0.05\n",
    "\n",
    "fdist = stats.f(dof2_treatment,dof2_error)\n",
    "fhigh = fdist.ppf(1-alpha)\n",
    "\n",
    "print (\"Critical F-value = %0.3f\" % (fhigh))\n",
    "\n",
    "if (fSN > 1):\n",
    "    pvalue = (1-fdist.cdf(fSN))\n",
    "else:\n",
    "    pvalue = fdist.cdf(fSN)\n",
    "    \n",
    "print (\"Pvalue = %0.3f\" % (pvalue))"
   ]
  },
  {
   "cell_type": "markdown",
   "metadata": {},
   "source": [
    "# Note the incredible power of this methodology in revealing differences between groups that are not visibly obvious!!!!\n",
    "\n",
    "As you probably could have guessed, there are built in Python Stats functions that can make this process considerably easier!"
   ]
  },
  {
   "cell_type": "code",
   "execution_count": 9,
   "metadata": {},
   "outputs": [
    {
     "name": "stdout",
     "output_type": "stream",
     "text": [
      "F Signal/Noise = 0.501 \n",
      "Pvalue = 0.606\n"
     ]
    }
   ],
   "source": [
    "F_statistic, pVal = stats.f_oneway(group1a, group1b, group1c)\n",
    "\n",
    "print (\"F Signal/Noise = %0.3f \" % F_statistic)\n",
    "print (\"Pvalue = %0.3f\" % (pVal))"
   ]
  },
  {
   "cell_type": "code",
   "execution_count": 10,
   "metadata": {},
   "outputs": [
    {
     "name": "stdout",
     "output_type": "stream",
     "text": [
      "F Signal/Noise = 30.218 \n",
      "Pvalue = 0.000\n"
     ]
    }
   ],
   "source": [
    "F_statistic, pVal = stats.f_oneway(group2a, group2b, group2c)\n",
    "\n",
    "print (\"F Signal/Noise = %0.3f \" % F_statistic)\n",
    "print (\"Pvalue = %0.3f\" % (pVal))"
   ]
  },
  {
   "cell_type": "code",
   "execution_count": 11,
   "metadata": {},
   "outputs": [
    {
     "name": "stdout",
     "output_type": "stream",
     "text": [
      "                 df        sum_sq    mean_sq         F    PR(>F)\n",
      "C(treatment)    2.0     92.589254  46.294627  0.501309  0.606249\n",
      "Residual      297.0  27427.183996  92.347421       NaN       NaN\n"
     ]
    }
   ],
   "source": [
    "groupA = group1a\n",
    "groupB = group1b\n",
    "groupC = group1c\n",
    "\n",
    "a = 3\n",
    "n = 100\n",
    "\n",
    "idA = np.ones(n)\n",
    "idB = 2.0*np.ones(n)\n",
    "idC = 3.0*np.ones(n)\n",
    "\n",
    "data = np.concatenate([groupA,groupB,groupC])\n",
    "id = np.concatenate([idA,idB,idC])\n",
    "\n",
    "data2 = np.transpose(np.vstack((data,id)))\n",
    "\n",
    "import pandas as pd\n",
    "from statsmodels.formula.api import ols\n",
    "from statsmodels.stats.anova import anova_lm\n",
    "\n",
    "df = pd.DataFrame(data2,columns=['value','treatment'])\n",
    "model = ols('value ~ C(treatment)',df).fit()\n",
    "anovaResults = anova_lm(model)\n",
    "\n",
    "print (anovaResults)"
   ]
  },
  {
   "cell_type": "code",
   "execution_count": 12,
   "metadata": {},
   "outputs": [
    {
     "name": "stdout",
     "output_type": "stream",
     "text": [
      "                 df       sum_sq      mean_sq          F        PR(>F)\n",
      "C(treatment)    2.0  2017.384881  1008.692441  30.217699  1.133692e-12\n",
      "Residual      297.0  9914.112191    33.380849        NaN           NaN\n"
     ]
    }
   ],
   "source": [
    "groupA = group2a\n",
    "groupB = group2b\n",
    "groupC = group2c\n",
    "\n",
    "a = 3\n",
    "n = 100\n",
    "\n",
    "idA = np.ones(n)\n",
    "idB = 2.0*np.ones(n)\n",
    "idC = 3.0*np.ones(n)\n",
    "\n",
    "data = np.concatenate([groupA,groupB,groupC])\n",
    "id = np.concatenate([idA,idB,idC])\n",
    "\n",
    "data2 = np.transpose(np.vstack((data,id)))\n",
    "\n",
    "import pandas as pd\n",
    "from statsmodels.formula.api import ols\n",
    "from statsmodels.stats.anova import anova_lm\n",
    "\n",
    "df = pd.DataFrame(data2,columns=['value','treatment'])\n",
    "model = ols('value ~ C(treatment)',df).fit()\n",
    "anovaResults = anova_lm(model)\n",
    "\n",
    "print (anovaResults)"
   ]
  },
  {
   "cell_type": "markdown",
   "metadata": {},
   "source": [
    "# Example 1 - Analysis of Summary Statistics\n",
    "\n",
    "In many cases, we do not have access to the raw data from an experiment; this is very typical when looking at published papers. Rather than giving all of the raw data, authors give the averages of each group, the number of groups and the number of samples within each group, and one extra quantity - $\\sum_i \\sum_j {x_{ij}^2}$.  These\n",
    "are known collectively as \"summary statistics\". \n",
    "\n",
    "With these quantities, we can find all of the necessary quantities for carrying out \n",
    "a typical one-way ANOVA!\n",
    "\n",
    "$SS_{total} = \\sum_{i=1}^{a} \\sum_{j=1}^{n} {(x_{ij}-\\bar{\\bar{x}})^2}$\n",
    "\n",
    "\n",
    "$SS_{total} = \\sum_{i=1}^{a} \\sum_{j=1}^{n} {(x_{ij}^2-2x_{ij}\\bar{\\bar{x}} + \\bar{\\bar{x}}^2)}$\n",
    "\n",
    "$SS_{total} = \\sum_{i=1}^{a} \\sum_{j=1}^{n} {x_{ij}^2} -2\\bar{\\bar{x}}\\sum_{i=1}^{a} \\sum_{j=1}^{n} {x_{ij}} + \\bar{\\bar{x}}^2 \\sum_{i=1}^{a} \\sum_{j=1}^{n} {1}$\n",
    "\n",
    "From here, we know that:\n",
    "\n",
    "$\\sum_{i=1}^{a} \\sum_{j=1}^{n} {1} = N$\n",
    "\n",
    "and\n",
    "\n",
    "$\\sum_{j=1}^{n} {x_{ij}} = N \\bar{\\bar{x}}$\n",
    "\n",
    "and therefore:\n",
    "\n",
    "$SS_{total} = \\sum_{i=1}^{a} \\sum_{j=1}^{n} {x_{ij}^2} - N \\bar{\\bar{x}}^2$\n",
    "\n",
    "We also know that:\n",
    "\n",
    "$SS_{treatment} = \\sum_{i=1}^{a} n(\\bar{x}_i - \\bar{\\bar{x}})^2$\n",
    "\n",
    "and\n",
    "\n",
    "$SS_{error} = SS_{total} - SS_{treatment}$"
   ]
  },
  {
   "cell_type": "markdown",
   "metadata": {},
   "source": [
    "Let's consider the following case:\n",
    "\n",
    "An experiment collects data for four groups, and records eight data points for each group.\n",
    "\n",
    "The summary data values are $\\bar{x}_1$ = 4.28, $\\bar{x}_2$ = 4.81, $\\bar{x}_3$ = 5.39, and $\\bar{x}_4$ = 5.88.  In addition, we are told that $\\sum_i \\sum_j {x_{ij}}$  = 855.6192."
   ]
  },
  {
   "cell_type": "code",
   "execution_count": 13,
   "metadata": {},
   "outputs": [
    {
     "name": "stdout",
     "output_type": "stream",
     "text": [
      "F Signal/Noise = 7.22 \n",
      "Critical F-value = 2.95\n",
      "Pvalue = 0.001\n"
     ]
    }
   ],
   "source": [
    "a = 4\n",
    "n = 8\n",
    "\n",
    "# calculate DOF's\n",
    "N = a*n\n",
    "dof_total = N - 1\n",
    "dof_treatment = a - 1\n",
    "dof_error = dof_total - dof_treatment\n",
    "\n",
    "# summary data for xbar\n",
    "xbar = np.array([4.28,4.81,5.39,5.88])\n",
    "xbarbar = xbar.mean()\n",
    "\n",
    "# calculate SS_treatment\n",
    "SS_treatment = 0.0\n",
    "for x in xbar:\n",
    "    SS_treatment += n*(x-xbarbar)**2\n",
    "    \n",
    "# calculate SS_total and SS_error\n",
    "sumxij2 = 855.6192\n",
    "SS_total = sumxij2-N*xbarbar**2\n",
    "SS_error = SS_total-SS_treatment\n",
    "\n",
    "# Proceed with normal ANOVA from here\n",
    "MS_treatment = SS_treatment/dof_treatment\n",
    "MS_error = SS_error/dof_error\n",
    "\n",
    "fSN = MS_treatment/MS_error\n",
    "\n",
    "print (\"F Signal/Noise = %0.2f \" % fSN)\n",
    "\n",
    "alpha = 0.05\n",
    "\n",
    "fdist = stats.f(dof_treatment,dof_error)\n",
    "fhigh = fdist.ppf(1-alpha)\n",
    "\n",
    "print (\"Critical F-value = %0.2f\" % (fhigh))\n",
    "\n",
    "if (fSN > 1):\n",
    "    pvalue = (1-fdist.cdf(fSN))\n",
    "else:\n",
    "    pvalue = fdist.cdf(fSN)\n",
    "    \n",
    "print (\"Pvalue = %0.3f\" % (pvalue))"
   ]
  },
  {
   "cell_type": "code",
   "execution_count": 14,
   "metadata": {},
   "outputs": [
    {
     "name": "stdout",
     "output_type": "stream",
     "text": [
      "Source     df     Sum of Squares Mean Square     f     P-value\n",
      "Groups     3       11.59           3.86       7.22    0.001\n",
      "Error      28      14.97          0.53\n",
      "Total      31      26.56\n"
     ]
    }
   ],
   "source": [
    "# print table\n",
    "\n",
    "print (\"Source     df     Sum of Squares Mean Square     f     P-value\")\n",
    "print (\"Groups     %0.0f       %0.2f           %0.2f       %0.2f    %0.3f\" %(dof_treatment,SS_treatment,MS_treatment,fSN,pvalue))\n",
    "print (\"Error      %0.0f      %0.2f          %0.2f\" %(dof_error,SS_error,MS_error))\n",
    "print (\"Total      %0.0f      %0.2f\" %(dof_total,SS_total))"
   ]
  },
  {
   "cell_type": "markdown",
   "metadata": {},
   "source": [
    "#### Conclusion:  There is a difference between the four groups"
   ]
  },
  {
   "cell_type": "markdown",
   "metadata": {},
   "source": [
    "# Example 2 - Analyzing Differences Between Groups - Tukey's HSD Test\n",
    "\n"
   ]
  },
  {
   "cell_type": "markdown",
   "metadata": {},
   "source": [
    "In the previous example, we determined that there was a difference between the groups.  The question now is - what is the nature of that difference?  Are all four groups different from one another?  Are perhaps three the same, but there is one that is different from those three?  \n",
    "\n",
    "We can determine the answers to this questions with Tukey's HSD (Honestly Significant Difference) Test!\n",
    "\n",
    "If we have all of the raw data available to us, then the Python statsmodels package has some interesting routines that we can use.  But, as noted above, we oftentimes only have summary data, in which case we need to carry out the Tukey procedure \"by hand\".\n",
    "\n",
    "In order to do this, there is a new statistic that we have to introduce, known as the $Studentized$ $range$.  As you might guess from the name, it is related to the Student's t-statistic.  Essentially, what we will be doing in Tukey's HSD Test is making a series of two-sample t-test comparisons between pairs of means (i.e. 1 vs. 2, 1 vs. 3, 1 vs. 4, 2 vs. 3, 2 vs. 4, and 3 vs. 4).\n",
    "\n",
    "The studentized range statistic is reported as:\n",
    "\n",
    "$q(k, v_{error}, \\alpha)$\n",
    "\n",
    "where $v_{error}$ is the number of ERROR degrees of freedom, $\\alpha$ is the Type-I error probability, and $k$ is the number of means being compared.  The value of $q$ represents the $\\bf{number~of~standard~errors~expected}$ between these means being compared. \n",
    "\n",
    "Admittedly, $k$ is quite a confusing variable.  If, for example, we are making a comparison between $\\bar{x}_1$ and $\\bar{x}_3$, then in fact there are actually $three$ means in the set, becuase we know that there is $\\bar{x}_2$ in between the means that we are comparing, even though we are not using it directly in the calculation.\n",
    "\n",
    "Since the $q$-statistic is a number of standard errors, we also need to know the size of the standard error.  This is given by:\n",
    "\n",
    "$std.~error = \\sqrt{\\frac{MS_{error}}{n}}$"
   ]
  },
  {
   "cell_type": "code",
   "execution_count": 15,
   "metadata": {},
   "outputs": [
    {
     "name": "stdout",
     "output_type": "stream",
     "text": [
      "Standard Error = 0.259\n",
      "Original Xbar =  [4.28 4.81 5.39 5.88]\n",
      "Sorted Xbar =  [4.28 4.81 5.39 5.88]\n",
      "W = 1.0\n",
      "[4.28, 4.81, 5.39, 5.88]\n",
      "i j xbar1 xbar2 Diff Diff_comp Result\n",
      "1 2 4.3 4.8 2.050  2.897 No\n",
      "1 3 4.3 5.4 4.294  3.499 Yes\n",
      "1 4 4.3 5.9 6.189  3.861 Yes\n",
      "2 3 4.8 5.4 2.243  2.897 No\n",
      "2 4 4.8 5.9 4.139  3.499 Yes\n",
      "3 4 5.4 5.9 1.895  2.897 No\n"
     ]
    }
   ],
   "source": [
    "# Tukey's Procedure\n",
    "#\n",
    "# Step 1:  Calculate the standard error = sqrt(MS_error/n)\n",
    "\n",
    "std_error = np.sqrt(MS_error/n)\n",
    "print (\"Standard Error = %0.3f\" % std_error)\n",
    "\n",
    "# Step 2:  Order the means from smallest to largest.  We will keep a copy of the original ordering so that\n",
    "#          we can refer to it later.\n",
    "\n",
    "print (\"Original Xbar = \",xbar)\n",
    "xbar_orig = xbar.copy()\n",
    "xbar.sort()\n",
    "print (\"Sorted Xbar = \",xbar)\n",
    "\n",
    "# Step 3:  Get the expected number of standard errors between largest and smallest, for the number\n",
    "# of means to be compared (a).  For this, we need the studentized range table values q(alpha,dof_error,k) for k=2,3,4\n",
    "# \n",
    "# http://www.real-statistics.com/statistics-tables/studentized-range-q-table/\n",
    "# For this problem, dof_error = 28, alpha = 0.05, k = 2,3,4\n",
    "#\n",
    "q = np.array([2.897,3.499,3.861])\n",
    "\n",
    "# Step 4:  Calculate W = q_max*std_error\n",
    "\n",
    "n_means = len(xbar)\n",
    "\n",
    "W = q[n_means-2]*std_error\n",
    "\n",
    "print (\"W = %0.1f\" % W)\n",
    "\n",
    "# Step 5:  Make all pair-wise comparisons\n",
    "\n",
    "print (list(xbar_orig))\n",
    "\n",
    "print (\"i j xbar1 xbar2 Diff Diff_comp Result\")\n",
    "for i in range(len(xbar)):\n",
    "    for j in range(len(xbar)):\n",
    "        if (xbar[j] > xbar[i]):\n",
    "            diff = (xbar[j] - xbar[i])/std_error\n",
    "            diff_comp = q[j-i-1]\n",
    "            if (diff>diff_comp):\n",
    "                Result = \"Yes\"\n",
    "            else:\n",
    "                Result = \"No\"\n",
    "            iorig = list(xbar_orig).index(xbar[i])+1\n",
    "            jorig = list(xbar_orig).index(xbar[j])+1\n",
    "            print (\"%0.0f %0.0f %0.1f %0.1f %0.3f  %0.3f %s\" % (iorig,jorig,xbar[i],xbar[j],diff,diff_comp,Result))"
   ]
  },
  {
   "cell_type": "markdown",
   "metadata": {},
   "source": [
    "# Example 3 - Tukey's HSD Test with Raw Data\n",
    "\n",
    "Let's now analyze the data from the second experiment above, where we found a signficant difference beween the three groups."
   ]
  },
  {
   "cell_type": "code",
   "execution_count": 16,
   "metadata": {},
   "outputs": [
    {
     "name": "stdout",
     "output_type": "stream",
     "text": [
      "100.48154918237573 103.21608755761588 96.88369016175159\n",
      "299 2 297\n",
      "11931.49707257073 2017.3848812365463 9914.112191334156\n"
     ]
    }
   ],
   "source": [
    "# Summary statistics\n",
    "print (group2a.mean(),group2b.mean(),group2c.mean())\n",
    "print (dof2_total,dof2_treatment,dof2_error)\n",
    "print (SS2_total,SS2_treatment,SS2_error)\n",
    "\n",
    "MS2_treatment = SS2_treatment/dof2_treatment\n",
    "MS2_error = SS2_error/dof2_error\n",
    "\n",
    "xbar = np.array([group2a.mean(),group2b.mean(),group2c.mean()])\n",
    "\n",
    "a = 3\n",
    "n = 100"
   ]
  },
  {
   "cell_type": "code",
   "execution_count": 17,
   "metadata": {},
   "outputs": [
    {
     "name": "stdout",
     "output_type": "stream",
     "text": [
      "Standard Error = 0.578\n",
      "Original Xbar =  [100.48154918 103.21608756  96.88369016]\n",
      "Sorted Xbar =  [ 96.88369016 100.48154918 103.21608756]\n",
      "W = 1.9\n",
      "[100.48154918237573, 103.21608755761588, 96.88369016175159]\n",
      "i j xbar1 xbar2 Diff Diff_comp Result\n",
      "3 1 96.9 100.5 6.227  2.772 Yes\n",
      "3 2 96.9 103.2 10.960  3.314 Yes\n",
      "1 2 100.5 103.2 4.733  2.772 Yes\n"
     ]
    }
   ],
   "source": [
    "# Tukey's Procedure\n",
    "#\n",
    "# Step 1:  Calculate the standard error = sqrt(MS_error/n)\n",
    "\n",
    "std_error = np.sqrt(MS2_error/n)\n",
    "print (\"Standard Error = %0.3f\" % std_error)\n",
    "\n",
    "# Step 2:  Order the means from smallest to largest.  We will keep a copy of the original ordering so that\n",
    "#          we can refer to it later.\n",
    "\n",
    "print (\"Original Xbar = \",xbar)\n",
    "xbar_orig = xbar.copy()\n",
    "xbar.sort()\n",
    "print (\"Sorted Xbar = \",xbar)\n",
    "\n",
    "# Step 3:  Get the expected number of standard errors between largest and smallest, for the number\n",
    "# of means to be compared (a).  For this, we need the studentized range table values q(alpha,dof_error,k) for k=2,3\n",
    "# \n",
    "# http://www.real-statistics.com/statistics-tables/studentized-range-q-table/\n",
    "# For this problem, dof_error = 297, alpha = 0.05, k = 2,3\n",
    "#\n",
    "q = np.array([2.772,3.314])\n",
    "\n",
    "# Step 4:  Calculate W = q_max*std_error\n",
    "\n",
    "n_means = len(xbar)\n",
    "\n",
    "W = q[n_means-2]*std_error\n",
    "\n",
    "print (\"W = %0.1f\" % W)\n",
    "\n",
    "# Step 5:  Make all pair-wise comparisons\n",
    "\n",
    "print (list(xbar_orig))\n",
    "\n",
    "print (\"i j xbar1 xbar2 Diff Diff_comp Result\")\n",
    "for i in range(len(xbar)):\n",
    "    for j in range(len(xbar)):\n",
    "        if (xbar[j] > xbar[i]):\n",
    "            diff = (xbar[j] - xbar[i])/std_error\n",
    "            diff_comp = q[j-i-1]\n",
    "            if (diff>diff_comp):\n",
    "                Result = \"Yes\"\n",
    "            else:\n",
    "                Result = \"No\"\n",
    "            iorig = list(xbar_orig).index(xbar[i])+1\n",
    "            jorig = list(xbar_orig).index(xbar[j])+1\n",
    "            print (\"%0.0f %0.0f %0.1f %0.1f %0.3f  %0.3f %s\" % (iorig,jorig,xbar[i],xbar[j],diff,diff_comp,Result))"
   ]
  },
  {
   "cell_type": "markdown",
   "metadata": {},
   "source": [
    "### Because we have the raw data, we can use packages within Python statsmodels to perform Tukey's HSD test"
   ]
  },
  {
   "cell_type": "code",
   "execution_count": 18,
   "metadata": {},
   "outputs": [
    {
     "name": "stdout",
     "output_type": "stream",
     "text": [
      "     id   group      result\n",
      "0     0  group1   98.846889\n",
      "1     0  group2  106.231074\n",
      "2     0  group3  105.215961\n",
      "3     1  group1   91.046244\n",
      "4     1  group2   99.136792\n",
      "..   ..     ...         ...\n",
      "295  98  group2  102.866098\n",
      "296  98  group3  100.740350\n",
      "297  99  group1  113.357846\n",
      "298  99  group2  100.226088\n",
      "299  99  group3   88.177968\n",
      "\n",
      "[300 rows x 3 columns]\n"
     ]
    }
   ],
   "source": [
    "# Put into dataframe\n",
    "\n",
    "df = pd.DataFrame()\n",
    "df['group1'] = group2a\n",
    "df['group2'] = group2b\n",
    "df['group3'] = group2c\n",
    "\n",
    "# Stack the data (and rename columns):\n",
    "\n",
    "stacked_data = df.stack().reset_index()\n",
    "stacked_data = stacked_data.rename(columns={'level_0': 'id',\n",
    "                                            'level_1': 'group',\n",
    "                                            0:'result'})\n",
    "# Show the dataframe:\n",
    "\n",
    "print (stacked_data)"
   ]
  },
  {
   "cell_type": "code",
   "execution_count": 29,
   "metadata": {},
   "outputs": [
    {
     "name": "stdout",
     "output_type": "stream",
     "text": [
      "Multiple Comparison of Means - Tukey HSD, FWER=0.05 \n",
      "====================================================\n",
      "group1 group2 meandiff p-adj   lower   upper  reject\n",
      "----------------------------------------------------\n",
      "group1 group2   2.7345 0.0026  0.8098  4.6593   True\n",
      "group1 group3  -3.5979  0.001 -5.5226 -1.6731   True\n",
      "group2 group3  -6.3324  0.001 -8.2571 -4.4076   True\n",
      "----------------------------------------------------\n"
     ]
    },
    {
     "data": {
      "image/png": "[encoded data removed]",
      "text/plain": [
       "<Figure size 720x432 with 1 Axes>"
      ]
     },
     "execution_count": 29,
     "metadata": {},
     "output_type": "execute_result"
    },
    {
     "data": {
      "image/png": "[encoded data removed]",
      "text/plain": [
       "<Figure size 720x432 with 1 Axes>"
      ]
     },
     "metadata": {
      "needs_background": "light"
     },
     "output_type": "display_data"
    }
   ],
   "source": [
    "from statsmodels.stats.multicomp import (pairwise_tukeyhsd,\n",
    "                                         MultiComparison)\n",
    "\n",
    "# Set up the data for comparison (creates a specialised object)\n",
    "MultiComp = MultiComparison(stacked_data['result'],\n",
    "                            stacked_data['group'])\n",
    "\n",
    "# Show all pair-wise comparisons:\n",
    "\n",
    "# Print the comparisons\n",
    "\n",
    "print(MultiComp.tukeyhsd(alpha=alpha).summary())\n",
    "\n",
    "MultiComp.tukeyhsd().plot_simultaneous()"
   ]
  },
  {
   "cell_type": "code",
   "execution_count": 30,
   "metadata": {},
   "outputs": [
    {
     "name": "stdout",
     "output_type": "stream",
     "text": [
      "     id   group      result\n",
      "0     0  group1   93.063371\n",
      "1     0  group2  109.909869\n",
      "2     0  group3  103.771106\n",
      "3     1  group1  102.068222\n",
      "4     1  group2  108.285438\n",
      "..   ..     ...         ...\n",
      "295  98  group2  115.379350\n",
      "296  98  group3   89.088126\n",
      "297  99  group1  108.149114\n",
      "298  99  group2   97.985462\n",
      "299  99  group3  109.824521\n",
      "\n",
      "[300 rows x 3 columns]\n"
     ]
    }
   ],
   "source": [
    "# Put into dataframe\n",
    "\n",
    "df = pd.DataFrame()\n",
    "df['group1'] = group1a\n",
    "df['group2'] = group1b\n",
    "df['group3'] = group1c\n",
    "\n",
    "# Stack the data (and rename columns):\n",
    "\n",
    "stacked_data = df.stack().reset_index()\n",
    "stacked_data = stacked_data.rename(columns={'level_0': 'id',\n",
    "                                            'level_1': 'group',\n",
    "                                            0:'result'})\n",
    "# Show the dataframe:\n",
    "\n",
    "print (stacked_data)"
   ]
  },
  {
   "cell_type": "code",
   "execution_count": 31,
   "metadata": {},
   "outputs": [
    {
     "name": "stdout",
     "output_type": "stream",
     "text": [
      "Multiple Comparison of Means - Tukey HSD, FWER=0.05\n",
      "===================================================\n",
      "group1 group2 meandiff p-adj   lower  upper  reject\n",
      "---------------------------------------------------\n",
      "group1 group2   1.3299 0.5844 -1.8715 4.5313  False\n",
      "group1 group3   0.9148 0.7591 -2.2866 4.1162  False\n",
      "group2 group3  -0.4151    0.9 -3.6165 2.7863  False\n",
      "---------------------------------------------------\n"
     ]
    },
    {
     "data": {
      "image/png": "[encoded data removed]",
      "text/plain": [
       "<Figure size 720x432 with 1 Axes>"
      ]
     },
     "execution_count": 31,
     "metadata": {},
     "output_type": "execute_result"
    },
    {
     "data": {
      "image/png": "[encoded data removed]",
      "text/plain": [
       "<Figure size 720x432 with 1 Axes>"
      ]
     },
     "metadata": {
      "needs_background": "light"
     },
     "output_type": "display_data"
    }
   ],
   "source": [
    "# Set up the data for comparison (creates a specialised object)\n",
    "MultiComp = MultiComparison(stacked_data['result'],\n",
    "                            stacked_data['group'])\n",
    "\n",
    "# Show all pair-wise comparisons:\n",
    "\n",
    "# Print the comparisons\n",
    "\n",
    "print(MultiComp.tukeyhsd(alpha=alpha).summary())\n",
    "\n",
    "MultiComp.tukeyhsd().plot_simultaneous()"
   ]
  },
  {
   "cell_type": "code",
   "execution_count": null,
   "metadata": {},
   "outputs": [],
   "source": []
  }
 ],
 "metadata": {
  "kernelspec": {
   "display_name": "Python 3",
   "language": "python",
   "name": "python3"
  },
  "language_info": {
   "codemirror_mode": {
    "name": "ipython",
    "version": 3
   },
   "file_extension": ".py",
   "mimetype": "text/x-python",
   "name": "python",
   "nbconvert_exporter": "python",
   "pygments_lexer": "ipython3",
   "version": "3.6.8"
  }
 },
 "nbformat": 4,
 "nbformat_minor": 2
}
