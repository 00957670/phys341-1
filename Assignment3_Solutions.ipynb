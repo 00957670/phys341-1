{
 "cells": [
  {
   "cell_type": "markdown",
   "metadata": {},
   "source": [
    "# Assignment 3 Solutions"
   ]
  },
  {
   "cell_type": "markdown",
   "metadata": {},
   "source": [
    "# Question 1\n",
    "\n",
    "Determine the values of the following quantities. (Give answers accurate to 2 decimal places.)\n",
    "\n",
    "(a) t(.10,19)   \n",
    "\n",
    "(b) t(.05,19)      \n",
    "\n",
    "(c) t(.05,29)   \n",
    "\n",
    "(d) t(.05,50)    \n",
    "\n",
    "(e) t(.005,50)   "
   ]
  },
  {
   "cell_type": "markdown",
   "metadata": {},
   "source": [
    "The t-distribution that WebAssign uses is known as a \"one-tailed t-distribution\". Thus, the specified probability ($\\alpha$) lies in a single tail, ABOVE the upper critical t-value.  The \"answer\" that WebAssign is looking for here is the upper critical t-value (which is positive)."
   ]
  },
  {
   "cell_type": "code",
   "execution_count": 8,
   "metadata": {},
   "outputs": [
    {
     "name": "stdout",
     "output_type": "stream",
     "text": [
      "a: 1.33\n",
      "b: 1.73\n",
      "c: 1.70\n",
      "d: 1.68\n",
      "e: 2.68\n"
     ]
    }
   ],
   "source": [
    "import scipy.stats as stats\n",
    "import numpy as np\n",
    "\n",
    "alpha = 0.10\n",
    "df = 19\n",
    "\n",
    "T = stats.t(df)\n",
    "\n",
    "print (\"a: %.2f\" % (T.ppf(1-alpha)))\n",
    "\n",
    "alpha=0.05\n",
    "print (\"b: %.2f\" % (T.ppf(1-alpha)))\n",
    "\n",
    "df = 29\n",
    "T = stats.t(df)\n",
    "\n",
    "print (\"c: %.2f\" % (T.ppf(1-alpha)))\n",
    "\n",
    "df = 50\n",
    "T = stats.t(df)\n",
    "\n",
    "print (\"d: %.2f\" % (T.ppf(1-alpha)))\n",
    "\n",
    "alpha=0.005\n",
    "print (\"e: %.2f\" % (T.ppf(1-alpha)))"
   ]
  },
  {
   "cell_type": "markdown",
   "metadata": {},
   "source": [
    "# Question 2\n",
    "\n",
    "Determine the t critical value(s) that will capture the desired t-curve area in each of the following cases. (Assume that central areas are centered at t = 0. Round your answers to three decimal places.)\n",
    "\n",
    "(a) Central area = 0.95, df = 10\n",
    "\n",
    "(b) Central area = 0.95, df = 30 \n",
    "\n",
    "(c) Central area = 0.99, df = 30\n",
    "\n",
    "(d) Central area = 0.99, df = 60\n",
    "\n",
    "(e) Upper-tail area = 0.01, df = 20\n",
    "\n",
    "(f) Lower-tail area = 0.025, df = 5"
   ]
  },
  {
   "cell_type": "code",
   "execution_count": 16,
   "metadata": {},
   "outputs": [
    {
     "name": "stdout",
     "output_type": "stream",
     "text": [
      "a: 2.228\n",
      "b: 2.042\n",
      "c: 2.750\n",
      "d: 2.660\n",
      "e: 2.528\n",
      "e: -2.571\n"
     ]
    }
   ],
   "source": [
    "df = 10\n",
    "T = stats.t(df)\n",
    "central_area = .95\n",
    "alpha=1-central_area\n",
    "\n",
    "print (\"a: %.3f\" %(T.ppf(1-alpha/2)))\n",
    "\n",
    "df = 30\n",
    "T = stats.t(df)\n",
    "central_area = .95\n",
    "alpha=1-central_area\n",
    "\n",
    "print (\"b: %.3f\" %(T.ppf(1-alpha/2)))\n",
    "\n",
    "df = 30\n",
    "T = stats.t(df)\n",
    "central_area = .99\n",
    "alpha=1-central_area\n",
    "\n",
    "print (\"c: %.3f\" %(T.ppf(1-alpha/2)))\n",
    "\n",
    "df = 60\n",
    "T = stats.t(df)\n",
    "central_area = .99\n",
    "alpha=1-central_area\n",
    "\n",
    "print (\"d: %.3f\" %(T.ppf(1-alpha/2)))\n",
    "\n",
    "df = 20\n",
    "T = stats.t(df)\n",
    "upper_area = .99\n",
    "alpha=1-upper_area\n",
    "\n",
    "print (\"e: %.3f\" %(T.ppf(1-alpha)))\n",
    "\n",
    "df = 5\n",
    "T = stats.t(df)\n",
    "lower_area = 0.025\n",
    "\n",
    "print (\"f: %.3f\" %(T.ppf(lower_area)))"
   ]
  },
  {
   "cell_type": "markdown",
   "metadata": {},
   "source": [
    "# Question 3\n",
    "\n",
    "Determine the t critical value for a two-sided confidence interval in each of the following situations. (Give answers accurate to 3 decimal places.)\n",
    "\n",
    "(a) Confidence level = 95%, df = 17\n",
    "\n",
    "(b) Confidence level = 95%, df = 18\n",
    "\n",
    "(c) Confidence level = 99%, df = 18  \n",
    "\n",
    "(d) Confidence level = 99%, n = 3  \n",
    "\n",
    "(e) Confidence level = 98%, df = 38  \n",
    "\n",
    "(f) Confidence level = 99%, n = 61"
   ]
  },
  {
   "cell_type": "code",
   "execution_count": 18,
   "metadata": {},
   "outputs": [
    {
     "name": "stdout",
     "output_type": "stream",
     "text": [
      "a: 2.110\n",
      "b: 2.101\n",
      "c: 2.878\n",
      "d: 9.925\n",
      "e: 2.429\n",
      "f: 2.659\n"
     ]
    }
   ],
   "source": [
    "df = 17\n",
    "T = stats.t(df)\n",
    "cl = .95\n",
    "alpha=1-cl\n",
    "\n",
    "print (\"a: %.3f\" %(T.ppf(1-alpha/2)))\n",
    "\n",
    "df = 18\n",
    "T = stats.t(df)\n",
    "cl = .95\n",
    "alpha=1-cl\n",
    "\n",
    "print (\"b: %.3f\" %(T.ppf(1-alpha/2)))\n",
    "\n",
    "df = 18\n",
    "T = stats.t(df)\n",
    "cl = .99\n",
    "alpha=1-cl\n",
    "\n",
    "print (\"c: %.3f\" %(T.ppf(1-alpha/2)))\n",
    "\n",
    "n = 3\n",
    "df = n-1\n",
    "T = stats.t(df)\n",
    "cl = .99\n",
    "alpha=1-cl\n",
    "\n",
    "print (\"d: %.3f\" %(T.ppf(1-alpha/2)))\n",
    "\n",
    "df = 38\n",
    "T = stats.t(df)\n",
    "cl = .98\n",
    "alpha=1-cl\n",
    "\n",
    "print (\"e: %.3f\" %(T.ppf(1-alpha/2)))\n",
    "\n",
    "df = 61\n",
    "T = stats.t(df)\n",
    "cl = 0.99\n",
    "alpha =1-cl\n",
    "\n",
    "print (\"f: %.3f\" %(T.ppf(1-alpha/2)))"
   ]
  },
  {
   "cell_type": "code",
   "execution_count": null,
   "metadata": {},
   "outputs": [],
   "source": []
  }
 ],
 "metadata": {
  "kernelspec": {
   "display_name": "Python 3",
   "language": "python",
   "name": "python3"
  },
  "language_info": {
   "codemirror_mode": {
    "name": "ipython",
    "version": 3
   },
   "file_extension": ".py",
   "mimetype": "text/x-python",
   "name": "python",
   "nbconvert_exporter": "python",
   "pygments_lexer": "ipython3",
   "version": "3.6.8"
  }
 },
 "nbformat": 4,
 "nbformat_minor": 2
}
