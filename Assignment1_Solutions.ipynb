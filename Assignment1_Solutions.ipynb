{
 "cells": [
  {
   "cell_type": "markdown",
   "metadata": {},
   "source": [
    "# Assignment 1 Solutions"
   ]
  },
  {
   "cell_type": "markdown",
   "metadata": {},
   "source": [
    "# Question 1:  \n",
    "\n",
    "A cat is launched from the top of the Trible library with zero initial velocity, and lands, unharmed, on the ground below time later. The height of the Trible library is measured to be (21.2 +/- 0.4) m. The time is measured to be (2.04 +/- 0.05) s.\n",
    "\n",
    "(a) What is the measured value of the acceleration due to gravity, ignoring air resistance?\n",
    "\n",
    "(b) Assuming that the uncertainties quoted above follow a uniform error distribution, what is the measured uncertainty in the acceleration due to gravity?\n",
    "\n",
    "(c) Assuming that the uncertainties quoted above follow a Gaussian error distribution, what is the measured uncertainty in the acceleration due to gravity?"
   ]
  },
  {
   "cell_type": "code",
   "execution_count": 1,
   "metadata": {},
   "outputs": [],
   "source": [
    "# Import the required packages, \n",
    "# with their conventional names \n",
    "import matplotlib.pyplot as plt \n",
    "import numpy as np \n",
    "import scipy.stats as stats\n",
    "\n",
    "h = 21.2\n",
    "dh = 0.4\n",
    "t = 2.04\n",
    "dt = 0.05"
   ]
  },
  {
   "cell_type": "code",
   "execution_count": 2,
   "metadata": {},
   "outputs": [
    {
     "name": "stdout",
     "output_type": "stream",
     "text": [
      "g = 10.19\n"
     ]
    }
   ],
   "source": [
    "g = 2.0*h/t**2\n",
    "\n",
    "print (\"g = %0.2f\" % g)"
   ]
  },
  {
   "cell_type": "code",
   "execution_count": 3,
   "metadata": {},
   "outputs": [
    {
     "name": "stdout",
     "output_type": "stream",
     "text": [
      "g = 10.19 +/- 0.690\n"
     ]
    }
   ],
   "source": [
    "from scipy.stats import uniform\n",
    "\n",
    "npts = 100000\n",
    "hdata = uniform.rvs(size=npts,loc=h-dh,scale=2*dh)\n",
    "tdata = uniform.rvs(size=npts,loc=t-dt,scale=2*dt)\n",
    "\n",
    "gdata = 2*hdata/tdata**2\n",
    "gmean = gdata.mean()\n",
    "delta_g = (gdata.ptp())/2.0\n",
    "\n",
    "print (\"g = %.2f +/- %.3f\" % (gmean,delta_g))"
   ]
  },
  {
   "cell_type": "code",
   "execution_count": 4,
   "metadata": {},
   "outputs": [
    {
     "name": "stdout",
     "output_type": "stream",
     "text": [
      "g = 10.21 +/- 0.538\n"
     ]
    }
   ],
   "source": [
    "from scipy.stats import norm\n",
    "\n",
    "npts = 100000\n",
    "hdata = norm.rvs(size=npts,loc=h,scale=dh)\n",
    "tdata = norm.rvs(size=npts,loc=t,scale=dt)\n",
    "\n",
    "gdata = 2*hdata/tdata**2\n",
    "gmean = gdata.mean()\n",
    "delta_g = gdata.std(ddof=1)\n",
    "\n",
    "print (\"g = %.2f +/- %.3f\" % (gmean,delta_g))"
   ]
  },
  {
   "cell_type": "markdown",
   "metadata": {},
   "source": [
    "# Question 2: \n",
    "\n",
    "Airlines sometimes overbook flights. Suppose that for a plane with 50 seats, 55 passengers have tickets. Define the random variable Y as the number of ticketed passengers who actually show up for the flight. The probability mass function of Y appears in the accompanying table.\n",
    "\n",
    "(a) What is the probability that the flight will accommodate all ticketed passengers who show up?\n",
    "\n",
    "(b) What is the probability that not all ticketed passengers who show up can be accommodated?\n",
    "\n",
    "(c) If you are the first person on the standby list (which means you will be the first one to get on the plane if there are any seats available after all ticketed passengers have been accommodated), what is the probability that you will be able to take the flight? \n",
    "\n",
    "What is this probability if you are the third person on the standby list?"
   ]
  },
  {
   "cell_type": "code",
   "execution_count": 5,
   "metadata": {},
   "outputs": [
    {
     "name": "stdout",
     "output_type": "stream",
     "text": [
      "0.8299999999999998\n"
     ]
    }
   ],
   "source": [
    "y = np.array([45,46,47,48,49,50,51,52,53,54,55])\n",
    "py = np.array([0.06,0.11,0.12,0.12,0.24,0.18,0.06,0.05,0.03,0.02,0.01])\n",
    "\n",
    "nseats = 50\n",
    "ntickets = 55\n",
    "\n",
    "sum = 0.0\n",
    "for i in range(len(y)):\n",
    "    if (y[i]<=nseats):\n",
    "        sum = sum + py[i]\n",
    "        \n",
    "print (sum)"
   ]
  },
  {
   "cell_type": "code",
   "execution_count": 6,
   "metadata": {},
   "outputs": [
    {
     "name": "stdout",
     "output_type": "stream",
     "text": [
      "0.17000000000000015\n"
     ]
    }
   ],
   "source": [
    "print (1-sum)"
   ]
  },
  {
   "cell_type": "code",
   "execution_count": 7,
   "metadata": {},
   "outputs": [
    {
     "name": "stdout",
     "output_type": "stream",
     "text": [
      "0.6499999999999999\n"
     ]
    }
   ],
   "source": [
    "sum = 0.0\n",
    "for i in range(len(y)):\n",
    "    if (y[i]<=nseats-1):\n",
    "        sum = sum + py[i]\n",
    "        \n",
    "print (sum)"
   ]
  },
  {
   "cell_type": "code",
   "execution_count": 8,
   "metadata": {},
   "outputs": [
    {
     "name": "stdout",
     "output_type": "stream",
     "text": [
      "0.29\n"
     ]
    }
   ],
   "source": [
    "sum = 0.0\n",
    "for i in range(len(y)):\n",
    "    if (y[i]<=nseats-3):\n",
    "        sum = sum + py[i]\n",
    "        \n",
    "print (sum)"
   ]
  },
  {
   "cell_type": "markdown",
   "metadata": {},
   "source": [
    "# Question 3: \n",
    "\n",
    "A mail-order company business has six telephone lines. Let X denote the number of lines in use at a specified time. Suppose the pmf of X is as given in the accompanying table.\n",
    "\n",
    "\n",
    "Calculate the probability of each of the following events.\n",
    "\n",
    "(a) {at most three lines are in use}\n",
    "\n",
    "(b) {fewer than three lines are in use}\n",
    "\n",
    "(c) {at least three lines are in use}\n",
    "\n",
    "(d) {between two and five lines, inclusive, are in use}\n",
    "\n",
    "(e) {between two and four lines, inclusive, are not in use}\n",
    "\n",
    "(f) {at least four lines are not in use}"
   ]
  },
  {
   "cell_type": "code",
   "execution_count": 9,
   "metadata": {},
   "outputs": [],
   "source": [
    "x = np.array([0,1,2,3,4,5,6])\n",
    "xnot = np.array([6,5,4,3,2,1,0])\n",
    "px = np.array([0.15,0.10,0.25,0.20,0.20,0.04,0.06])"
   ]
  },
  {
   "cell_type": "code",
   "execution_count": 10,
   "metadata": {},
   "outputs": [
    {
     "name": "stdout",
     "output_type": "stream",
     "text": [
      "0.7 0.5 0.5 0.6900000000000001 0.65 0.5\n"
     ]
    }
   ],
   "source": [
    "suma = 0.0\n",
    "sumb = 0.0\n",
    "sumc = 0.0\n",
    "sumd = 0.0\n",
    "sume = 0.0\n",
    "sumf = 0.0\n",
    "for i in range(len(x)):\n",
    "    if (x[i] <= 3):\n",
    "        suma = suma + px[i]\n",
    "    if (x[i] < 3):\n",
    "        sumb = sumb + px[i]\n",
    "    if (x[i] >= 3):\n",
    "        sumc = sumc + px[i]\n",
    "    if (x[i] >= 2 and x[i] <=5):\n",
    "        sumd = sumd + px[i]\n",
    "    if (xnot[i] >=2 and xnot[i] <=4):\n",
    "        sume = sume + px[i]\n",
    "    if (xnot[i] >=4):\n",
    "        sumf = sumf + px[i]\n",
    "        \n",
    "print (suma,sumb,sumc,sumd,sume,sumf)"
   ]
  },
  {
   "cell_type": "markdown",
   "metadata": {},
   "source": [
    "# Question 4: \n",
    "\n",
    "Compute the following binomial probabilities directly from the formula for b(x; n, p).\n",
    "\n",
    "(a) b(3; 5, 0.48)\n",
    "\n",
    "(b) b(2; 7, 0.77)\n",
    "\n",
    "(c) P(3 <= X <= 5) when n = 9 and p = 0.76\n",
    "\n",
    "(d) P(1 <= X) when n = 12 and p = 0.14"
   ]
  },
  {
   "cell_type": "code",
   "execution_count": 11,
   "metadata": {},
   "outputs": [],
   "source": [
    "from scipy.stats import binom"
   ]
  },
  {
   "cell_type": "code",
   "execution_count": 12,
   "metadata": {},
   "outputs": [
    {
     "name": "stdout",
     "output_type": "stream",
     "text": [
      "0.2990407679999999\n"
     ]
    }
   ],
   "source": [
    "X = binom(5,0.48)\n",
    "\n",
    "print (X.pmf(3))"
   ]
  },
  {
   "cell_type": "code",
   "execution_count": 13,
   "metadata": {},
   "outputs": [
    {
     "name": "stdout",
     "output_type": "stream",
     "text": [
      "0.008013826305870005\n"
     ]
    }
   ],
   "source": [
    "X = binom(7,0.77)\n",
    "\n",
    "print (X.pmf(2))"
   ]
  },
  {
   "cell_type": "code",
   "execution_count": 14,
   "metadata": {},
   "outputs": [
    {
     "name": "stdout",
     "output_type": "stream",
     "text": [
      "0.1465132213170339\n"
     ]
    }
   ],
   "source": [
    "X = binom(9,0.76)\n",
    "\n",
    "print (X.cdf(5) - X.cdf(2))"
   ]
  },
  {
   "cell_type": "code",
   "execution_count": 15,
   "metadata": {},
   "outputs": [
    {
     "name": "stdout",
     "output_type": "stream",
     "text": [
      "0.8363253522544125\n"
     ]
    }
   ],
   "source": [
    "X = binom(12,0.14)\n",
    "\n",
    "print (1 - X.cdf(0))"
   ]
  },
  {
   "cell_type": "markdown",
   "metadata": {},
   "source": [
    "# Question 5:\n",
    "\n",
    "When circuit boards used in the manufacture of compact disc players are tested, the long-run percentage of defectives is 10%. Let X = the number of defective boards in a random sample of size n = 25, so X ~ Bin(25, 0.10).\n",
    "\n",
    "(a) Determine P(X <= 2).\n",
    "\n",
    "(b) Determine P(X >= 5).\n",
    "\n",
    "(c) Determine P(1 <= X <= 4).\n",
    "\n",
    "(d) What is the probability that none of the 25 boards is defective?\n",
    "\n",
    "(e) Calculate the expected value and standard deviation of X."
   ]
  },
  {
   "cell_type": "code",
   "execution_count": 16,
   "metadata": {},
   "outputs": [],
   "source": [
    "n = 25\n",
    "p = 0.10\n",
    "\n",
    "X = binom(n,p)"
   ]
  },
  {
   "cell_type": "code",
   "execution_count": 17,
   "metadata": {},
   "outputs": [
    {
     "name": "stdout",
     "output_type": "stream",
     "text": [
      "0.5370940500509418\n"
     ]
    }
   ],
   "source": [
    "print (X.cdf(2))"
   ]
  },
  {
   "cell_type": "code",
   "execution_count": 18,
   "metadata": {},
   "outputs": [
    {
     "name": "stdout",
     "output_type": "stream",
     "text": [
      "0.09799362119546473\n"
     ]
    }
   ],
   "source": [
    "print (1-X.cdf(4))"
   ]
  },
  {
   "cell_type": "code",
   "execution_count": 19,
   "metadata": {},
   "outputs": [
    {
     "name": "stdout",
     "output_type": "stream",
     "text": [
      "0.8302165800353499\n"
     ]
    }
   ],
   "source": [
    "print (X.cdf(4)-X.cdf(0))"
   ]
  },
  {
   "cell_type": "code",
   "execution_count": 20,
   "metadata": {},
   "outputs": [
    {
     "name": "stdout",
     "output_type": "stream",
     "text": [
      "0.0717897987691853\n"
     ]
    }
   ],
   "source": [
    "print (X.cdf(0))"
   ]
  },
  {
   "cell_type": "code",
   "execution_count": 21,
   "metadata": {},
   "outputs": [
    {
     "name": "stdout",
     "output_type": "stream",
     "text": [
      "2.5 1.5\n"
     ]
    }
   ],
   "source": [
    "print (X.mean(),X.std())"
   ]
  },
  {
   "cell_type": "code",
   "execution_count": 22,
   "metadata": {},
   "outputs": [
    {
     "name": "stdout",
     "output_type": "stream",
     "text": [
      "2.5 1.5\n"
     ]
    }
   ],
   "source": [
    "print (n*p,np.sqrt(n*p*(1-p)))"
   ]
  },
  {
   "cell_type": "markdown",
   "metadata": {},
   "source": [
    "# Question 6:\n",
    "\n",
    "An airport limousine can accommodate up to four passengers on any one trip. The company will accept a maximum of six reservations for a trip, and a passenger must have a reservation. From previous records, 40% of all those making reservations do not appear for the trip. Answer the following questions, assuming independence wherever appropriate.\n",
    "\n",
    "(a) If six reservations are made, what is the probability that at least one individual with a reservation cannot be accommodated on the trip?\n",
    "\n",
    "(b) If six reservations are made, what is the expected number of available places when the limousine departs?\n",
    "Your answer is incorrect.\n",
    "\n",
    "(c) Suppose the probability distribution of the number of reservations made is given in the accompanying table.\n",
    "\n",
    "Number of reservations    \t3      4\t 5\t   6\n",
    "\n",
    "Probability\t                0.09   0.24  0.33  0.34    \n",
    "\n",
    "Let X denote the number of passengers on a randomly selected trip. Obtain the probability mass function of X."
   ]
  },
  {
   "cell_type": "code",
   "execution_count": 23,
   "metadata": {},
   "outputs": [
    {
     "name": "stdout",
     "output_type": "stream",
     "text": [
      "0.23328000000000004\n"
     ]
    }
   ],
   "source": [
    "p = 0.6 #probability that a reservation shows up\n",
    "\n",
    "# Part A\n",
    "N = 6\n",
    "X = binom(N,p)\n",
    "\n",
    "print (X.pmf(5) + X.pmf(6)) # we have a problem if either 5 or 6 people show up!"
   ]
  },
  {
   "cell_type": "code",
   "execution_count": 24,
   "metadata": {},
   "outputs": [
    {
     "name": "stdout",
     "output_type": "stream",
     "text": [
      "0 0.004096000000000002 4\n",
      "1 0.03686400000000005 3\n",
      "2 0.13824000000000003 2\n",
      "3 0.2764800000000001 1\n",
      "4 0.31104 0\n",
      "5 0.18662400000000007 0\n",
      "6 0.04665599999999999 0\n",
      "\n",
      "0.6799360000000003\n"
     ]
    }
   ],
   "source": [
    "nspaces = np.array([4,3,2,1,0,0,0])\n",
    "\n",
    "sum = 0.0\n",
    "for i in range(len(nspaces)):\n",
    "    sum = sum + X.pmf(i)*nspaces[i]\n",
    "    print (i,X.pmf(i),nspaces[i])\n",
    "\n",
    "print()\n",
    "print (sum)"
   ]
  },
  {
   "cell_type": "code",
   "execution_count": 25,
   "metadata": {},
   "outputs": [],
   "source": [
    "npass = np.array([0,1,2,3,4,5,6])\n",
    "pres = np.array([0.09,0.24,0.33,0.34])\n",
    "\n",
    "pmf = np.array([0.0,0.0,0.0,0.0,0.0,0.0,0.0])\n",
    "\n",
    "for i in range(len(npass)):\n",
    "    for nres in range(3,7):\n",
    "        X = binom(nres,p)\n",
    "        #print (i,nres,X.pmf(i),pres[nres-3])\n",
    "        pmf[i] = pmf[i] + X.pmf(i)*pres[nres-3]\n",
    "        "
   ]
  },
  {
   "cell_type": "code",
   "execution_count": 26,
   "metadata": {},
   "outputs": [
    {
     "name": "stdout",
     "output_type": "stream",
     "text": [
      "0.016675840000000008\n",
      "0.10066176000000003\n",
      "0.24485760000000004\n",
      "0.3104352\n",
      "0.3273696\n"
     ]
    }
   ],
   "source": [
    "print (pmf[0])\n",
    "print (pmf[1])\n",
    "print (pmf[2])\n",
    "print (pmf[3])\n",
    "print (pmf[4]+pmf[5]+pmf[6])"
   ]
  },
  {
   "cell_type": "markdown",
   "metadata": {},
   "source": [
    "# Question 7:\n",
    "\n",
    "Let X, the number of flaws on the surface of a randomly selected boiler of a certain type, have a Poisson distribution with parameter λ = 3. Compute the following probabilities.\n",
    "\n",
    "(a) P(X ≤ 8)\n",
    "\n",
    "(b) P(X = 8)\n",
    "\n",
    "(c) P(9 ≤ X)\n",
    "\n",
    "(d) P(5 ≤ X ≤ 8)\n",
    "\n",
    "(e) P(5 < X < 8)"
   ]
  },
  {
   "cell_type": "code",
   "execution_count": 27,
   "metadata": {},
   "outputs": [],
   "source": [
    "X = stats.poisson(3)"
   ]
  },
  {
   "cell_type": "code",
   "execution_count": 28,
   "metadata": {},
   "outputs": [
    {
     "name": "stdout",
     "output_type": "stream",
     "text": [
      "0.996197007938324\n",
      "0.008101511794681432\n",
      "0.0038029920616760027\n",
      "0.1809337634145518\n",
      "0.07201343817494599\n"
     ]
    }
   ],
   "source": [
    "print (X.cdf(8))\n",
    "print (X.pmf(8))\n",
    "print (1-X.cdf(8))\n",
    "print (X.cdf(8)-X.cdf(4))\n",
    "print (X.cdf(7)-X.cdf(5))"
   ]
  },
  {
   "cell_type": "markdown",
   "metadata": {},
   "source": [
    "# Question 8\n",
    "\n",
    "Consider writing onto a computer disk and then sending it through a certifier that counts the number of missing pulses. Suppose this number X has a Poisson distribution with parameter λ = 0.19.\n",
    "\n",
    "(a) What is the probability that a disk has exactly one missing pulse?\n",
    "\n",
    "(b) What is the probability that a disk has at least two missing pulses?\n",
    "\n",
    "(c) If two disks are independently selected, what is the probability that neither contains a missing pulse?"
   ]
  },
  {
   "cell_type": "code",
   "execution_count": 29,
   "metadata": {},
   "outputs": [],
   "source": [
    "X = stats.poisson(0.19)"
   ]
  },
  {
   "cell_type": "code",
   "execution_count": 30,
   "metadata": {},
   "outputs": [
    {
     "name": "stdout",
     "output_type": "stream",
     "text": [
      "0.15712223544923887\n",
      "0.015918630607398843\n",
      "0.6838614092123558\n"
     ]
    }
   ],
   "source": [
    "# part A\n",
    "\n",
    "print (X.pmf(1))\n",
    "\n",
    "# part B\n",
    "\n",
    "print (1-X.cdf(1))\n",
    "\n",
    "# part C\n",
    "\n",
    "print (X.pmf(0)*X.pmf(0))"
   ]
  },
  {
   "cell_type": "markdown",
   "metadata": {},
   "source": [
    "# Question 9\n",
    "\n",
    "In proof testing of circuit boards, the probability that any particular diode will fail is 0.01. Suppose a circuit board contains 150 diodes.\n",
    "\n",
    "(a) How many diodes would you expect to fail?\n",
    "\n",
    "What is the standard deviation of the number that are expected to fail?\n",
    "\n",
    "(b) What is the (approximate) probability that at least four diodes will fail on a randomly selected board? (Use binomial approximation.)\n",
    "\n",
    "(c) If five boards are shipped to a particular customer, how likely is it that at least four of them will work properly? (A board works properly only if all its diodes work.)"
   ]
  },
  {
   "cell_type": "code",
   "execution_count": 31,
   "metadata": {},
   "outputs": [],
   "source": [
    "N = 150\n",
    "p = 0.01\n",
    "\n",
    "lmbda = N*p\n",
    "\n",
    "X = stats.binom(N,p)\n",
    "Xp = stats.poisson(lmbda)"
   ]
  },
  {
   "cell_type": "code",
   "execution_count": 32,
   "metadata": {},
   "outputs": [
    {
     "name": "stdout",
     "output_type": "stream",
     "text": [
      "1.5 1.5\n",
      "1.218605760695394 1.218605760695394\n",
      "1.5 1.224744871391589\n"
     ]
    }
   ],
   "source": [
    "# part A\n",
    "\n",
    "print (N*p,X.mean())\n",
    "print (np.sqrt(N*p*(1-p)), X.std())\n",
    "\n",
    "print (Xp.mean(),Xp.std())"
   ]
  },
  {
   "cell_type": "code",
   "execution_count": 33,
   "metadata": {},
   "outputs": [
    {
     "name": "stdout",
     "output_type": "stream",
     "text": [
      "0.06469468531132283\n",
      "0.06564245437845007\n"
     ]
    }
   ],
   "source": [
    "# part B\n",
    "\n",
    "# Exact answer - binomial\n",
    "print (1 - X.cdf(3))\n",
    "\n",
    "# Approximate answer - Poisson\n",
    "print (1 - Xp.cdf(3))\n",
    "\n",
    "# It appears that WebAssign is using the Poisson distribution (which admittedly is an approximation, but\n",
    "# the wording of the question is misleading."
   ]
  },
  {
   "cell_type": "code",
   "execution_count": 34,
   "metadata": {},
   "outputs": [
    {
     "name": "stdout",
     "output_type": "stream",
     "text": [
      "0.009894672033007756\n",
      "0.01018142340274042\n"
     ]
    }
   ],
   "source": [
    "# Binomial for the 150 diode board, binomial for the five boards shipped. \n",
    "p_all_work = X.pmf(0)\n",
    "\n",
    "Xfive = binom(5,p_all_work)\n",
    "\n",
    "print (1-Xfive.cdf(3))\n",
    "\n",
    "# Poisson for the 150 diode board, binomial for the five boards shipped. <--- This is what WebAssign wants!!!\n",
    "p_all_work = Xp.pmf(0)\n",
    "\n",
    "Xfive = binom(5,p_all_work)\n",
    "\n",
    "print (1-Xfive.cdf(3))"
   ]
  },
  {
   "cell_type": "code",
   "execution_count": null,
   "metadata": {},
   "outputs": [],
   "source": []
  }
 ],
 "metadata": {
  "kernelspec": {
   "display_name": "Python 3",
   "language": "python",
   "name": "python3"
  },
  "language_info": {
   "codemirror_mode": {
    "name": "ipython",
    "version": 3
   },
   "file_extension": ".py",
   "mimetype": "text/x-python",
   "name": "python",
   "nbconvert_exporter": "python",
   "pygments_lexer": "ipython3",
   "version": "3.6.8"
  }
 },
 "nbformat": 4,
 "nbformat_minor": 2
}
