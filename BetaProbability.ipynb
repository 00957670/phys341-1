{
 "cells": [
  {
   "cell_type": "code",
   "execution_count": 1,
   "metadata": {},
   "outputs": [],
   "source": [
    "# Import the required packages, \n",
    "# with their conventional names \n",
    "import matplotlib.pyplot as plt \n",
    "import numpy as np \n",
    "import scipy.stats as stats"
   ]
  },
  {
   "cell_type": "markdown",
   "metadata": {},
   "source": [
    "We now turn to the situation where the mean of the population is NOT what we think it is.  In this case, we are hoping to detect this difference through our measurements.\n",
    "\n",
    "For this example, we will assume that $\\mu_{expected} = 100.0$ and that $\\mu_{actual} = 90.0$"
   ]
  },
  {
   "cell_type": "code",
   "execution_count": 4,
   "metadata": {},
   "outputs": [
    {
     "data": {
      "text/plain": [
       "[<matplotlib.lines.Line2D at 0x7f700a540eb8>]"
      ]
     },
     "execution_count": 4,
     "metadata": {},
     "output_type": "execute_result"
    },
    {
     "data": {
      "image/png": "[encoded data removed]",
      "text/plain": [
       "<Figure size 432x288 with 1 Axes>"
      ]
     },
     "metadata": {
      "needs_background": "light"
     },
     "output_type": "display_data"
    }
   ],
   "source": [
    "# Generate some data ... 5000 samples chosen from a Gaussian distribution with a mean of 100 and a sigma of 10.\n",
    "npts = 5000\n",
    "mu_actual = 90.0\n",
    "mu_expected = 100.0\n",
    "sigma = 10.0\n",
    "\n",
    "x_actual = stats.norm.rvs(size=npts,loc=mu_actual,scale=sigma)\n",
    "x_expected = stats.norm.rvs(size=npts,loc=mu_expected,scale=sigma)\n",
    "\n",
    "# calculate the sample mean, and the sample standard deviation (unbiased).\n",
    "xbar = np.mean(x_actual)\n",
    "stdev = np.std(x_actual,ddof=1)\n",
    "\n",
    "# create a plot that shows the histogram of the generated data, along with a curve of a Gaussian distribution based on the\n",
    "# expected mean.\n",
    "\n",
    "nbins = 100\n",
    "plt.hist(x_actual,nbins)\n",
    "\n",
    "bins=np.histogram(x_actual, bins=nbins)[1] #get the bin edges\n",
    "\n",
    "dx = (bins[len(bins)-1] - bins[0])/nbins\n",
    "\n",
    "amplitude = (npts*dx)/(np.sqrt(2*np.pi)*sigma)\n",
    "xa = -1.0*(bins-mu_actual)**2/(2.0*sigma**2)\n",
    "xe = -1.0*(bins-mu_expected)**2/(2.0*sigma**2)\n",
    "\n",
    "ya = amplitude*np.exp(xa)\n",
    "ye = amplitude*np.exp(xe)\n",
    "\n",
    "#plt.plot(bins,ya)\n",
    "plt.plot(bins,ye)\n"
   ]
  },
  {
   "cell_type": "markdown",
   "metadata": {},
   "source": [
    "As we can see from the plot, it is pretty easy to tell in this case that the distribution that we are sampling from has a different mean value that the one that we expect.  But, as the difference between the actual mean and the expected mean becomes smaller, it becomes much harder to tell."
   ]
  },
  {
   "cell_type": "markdown",
   "metadata": {},
   "source": [
    "We can understand what is going on better if again consider the notion of performing our experiment many times.  Each time, we will get a new value of $\\bar{x}$ from our sample.  We calculate a $z$ value for that sample, and then we can histogram all of the $z$ values, as before.  We now see that this histogram of the $z$ values is no longer a Gaussian with a centroid of zero, however, because we are sampling from a population that has a different mean than what we expect."
   ]
  },
  {
   "cell_type": "code",
   "execution_count": 6,
   "metadata": {},
   "outputs": [
    {
     "name": "stdout",
     "output_type": "stream",
     "text": [
      "Z critical =  -1.2815515655446004\n",
      "If we measure a value ABOVE z = z_critical, we will conclude that there is NOT a problem!!!\n"
     ]
    },
    {
     "data": {
      "text/plain": [
       "(array([ 0.,  0.,  0.,  0.,  0.,  0.,  0.,  0.,  0.,  0.,  0.,  0.,  0.,\n",
       "         0.,  0.,  0.,  0.,  0.,  0.,  0.,  0.,  0.,  0.,  0.,  0.,  0.,\n",
       "         0.,  0.,  0.,  0.,  0.,  0.,  0.,  0.,  0.,  0.,  0.,  0.,  0.,\n",
       "         0.,  0.,  0.,  0.,  0.,  0.,  0.,  0.,  0.,  0.,  0.,  0.,  0.,\n",
       "         0.,  0.,  0.,  0.,  0.,  0.,  0.,  0.,  0.,  0.,  0.,  6., 17.,\n",
       "         8., 15.,  7., 12., 13., 15., 12., 16., 10.,  6.,  6.,  3.,  4.,\n",
       "         8.,  4.,  6.,  8.,  4.,  4.,  4.,  0.,  5.,  2.,  2.,  1.,  1.,\n",
       "         0.,  1.,  0.,  1.,  0.,  0.,  1.,  0.,  2.]),\n",
       " array([-5.0547144 , -4.99538272, -4.93605104, -4.87671935, -4.81738767,\n",
       "        -4.75805599, -4.6987243 , -4.63939262, -4.58006094, -4.52072926,\n",
       "        -4.46139757, -4.40206589, -4.34273421, -4.28340252, -4.22407084,\n",
       "        -4.16473916, -4.10540748, -4.04607579, -3.98674411, -3.92741243,\n",
       "        -3.86808074, -3.80874906, -3.74941738, -3.6900857 , -3.63075401,\n",
       "        -3.57142233, -3.51209065, -3.45275896, -3.39342728, -3.3340956 ,\n",
       "        -3.27476392, -3.21543223, -3.15610055, -3.09676887, -3.03743718,\n",
       "        -2.9781055 , -2.91877382, -2.85944214, -2.80011045, -2.74077877,\n",
       "        -2.68144709, -2.6221154 , -2.56278372, -2.50345204, -2.44412035,\n",
       "        -2.38478867, -2.32545699, -2.26612531, -2.20679362, -2.14746194,\n",
       "        -2.08813026, -2.02879857, -1.96946689, -1.91013521, -1.85080353,\n",
       "        -1.79147184, -1.73214016, -1.67280848, -1.61347679, -1.55414511,\n",
       "        -1.49481343, -1.43548175, -1.37615006, -1.31681838, -1.2574867 ,\n",
       "        -1.19815501, -1.13882333, -1.07949165, -1.02015997, -0.96082828,\n",
       "        -0.9014966 , -0.84216492, -0.78283323, -0.72350155, -0.66416987,\n",
       "        -0.60483819, -0.5455065 , -0.48617482, -0.42684314, -0.36751145,\n",
       "        -0.30817977, -0.24884809, -0.1895164 , -0.13018472, -0.07085304,\n",
       "        -0.01152136,  0.04781033,  0.10714201,  0.16647369,  0.22580538,\n",
       "         0.28513706,  0.34446874,  0.40380042,  0.46313211,  0.52246379,\n",
       "         0.58179547,  0.64112716,  0.70045884,  0.75979052,  0.8191222 ,\n",
       "         0.87845389]),\n",
       " <a list of 100 Patch objects>)"
      ]
     },
     "execution_count": 6,
     "metadata": {},
     "output_type": "execute_result"
    },
    {
     "data": {
      "image/png": "[encoded data removed]",
      "text/plain": [
       "<Figure size 432x288 with 1 Axes>"
      ]
     },
     "metadata": {
      "needs_background": "light"
     },
     "output_type": "display_data"
    }
   ],
   "source": [
    "sem = sigma/np.sqrt(npts)\n",
    "alpha = 0.10\n",
    "zCritical = stats.norm.ppf(alpha)\n",
    "xbarLower = mu_expected + zCritical*sem\n",
    "\n",
    "print(\"Z critical = \",zCritical)\n",
    "print(\"If we measure a value ABOVE z = z_critical, we will conclude that there is NOT a problem!!!\")\n",
    "\n",
    "# We will take a sample of 3000 points from a Gaussian distribution with mu_actual=99.5 and sigma=10.0, \n",
    "# and each time we do this, we will calculate xbar.  Then, we will calculate the z value corresponding \n",
    "# to that value of xbar.   Finally, we will create a histogram of these z-values.\n",
    "\n",
    "mu_actual = 99.7\n",
    "\n",
    "xbararray = []\n",
    "\n",
    "# perform the experiment 10000 times\n",
    "for i in range(1000):\n",
    "    x = stats.norm.rvs(size=npts,loc=mu_actual,scale=sigma)\n",
    "    xbararray.append(np.mean(x))\n",
    "    \n",
    "xbararray = np.array(xbararray)\n",
    "\n",
    "# IMPORTANT!!! When we calculate the z value, we do so by comparing to the EXPECTED mean, mu_expected!!!\n",
    "zscorearray = (xbararray-mu_expected)/sem\n",
    "        \n",
    "zhigh = zscorearray[(zscorearray>zCritical)]\n",
    "\n",
    "bins=np.histogram(np.hstack((zscorearray,zhigh)), bins=nbins)[1] #get the bin edges\n",
    "\n",
    "plt.hist(zscorearray,bins)\n",
    "plt.hist(zhigh,bins)"
   ]
  },
  {
   "cell_type": "markdown",
   "metadata": {},
   "source": [
    "The area shown in orange in the plot above corresponds to the probability that we have measured a value of z above the (alpha) critical value, and thus will conclude that there is NOT a problem (i.e. that our data is consistent with $\\mu = 100.0$).  This probability is the TYPE II Error Probability, $\\beta$.\n",
    "\n",
    "In order to calculate this probability, $\\beta$, we need the integral of the z distribution that corresponds to $\\mu_{actual}$.  But, we do NOT know what $\\mu_{actual}$ is!!!  So, we can only calculate $\\beta$ as a function of $\\mu_{actual}$."
   ]
  },
  {
   "cell_type": "code",
   "execution_count": 7,
   "metadata": {},
   "outputs": [
    {
     "name": "stdout",
     "output_type": "stream",
     "text": [
      "mu_actual_guess, beta =  [99.4, 99.5, 99.60000000000001, 99.7, 99.80000000000001, 99.9] [0.0015327660944542965, 0.012098639482207907, 0.060946627821411026, 0.20051902120773057, 0.44723034964066755, 0.7171665726179017]\n"
     ]
    },
    {
     "data": {
      "image/png": "[encoded data removed]",
      "text/plain": [
       "<Figure size 432x288 with 6 Axes>"
      ]
     },
     "metadata": {
      "needs_background": "light"
     },
     "output_type": "display_data"
    },
    {
     "data": {
      "image/png": "[encoded data removed]",
      "text/plain": [
       "<Figure size 432x288 with 1 Axes>"
      ]
     },
     "metadata": {
      "needs_background": "light"
     },
     "output_type": "display_data"
    }
   ],
   "source": [
    "# IMPORTANT!!! When we calculate the z value, we do so by comparing to the EXPECTED mean, mu_expected!!!\n",
    "\n",
    "fig, axs = plt.subplots(2, 3)\n",
    "\n",
    "mu_actual_guess = []\n",
    "beta = []\n",
    "for i in range(6):\n",
    "    yp = int(i%3)\n",
    "    xp = int(i/3)\n",
    "    mu_actual_guess.append(99.4 + i*0.1)\n",
    "    \n",
    "    xbararray = []\n",
    "\n",
    "    # perform the experiment 1000 times\n",
    "    for j in range(100000):\n",
    "        x = stats.norm.rvs(size=npts,loc=mu_actual_guess[i],scale=sigma)\n",
    "        xbararray.append(np.mean(x))\n",
    "    \n",
    "    xbararray = np.array(xbararray)\n",
    "\n",
    "    zscorearray = (xbararray-mu_actual_guess[i])/sem\n",
    "\n",
    "    xbar_alpha = mu_expected + zCritical*sem\n",
    "    zbeta_critical = (xbar_alpha - mu_actual_guess[i])/sem\n",
    "        \n",
    "    zhigh = zscorearray[(zscorearray>zbeta_critical)]\n",
    "\n",
    "    bins=np.histogram(np.hstack((zscorearray,zhigh)), bins=nbins)[1] #get the bin edges\n",
    "\n",
    "    axs[xp,yp].hist(zscorearray,bins)\n",
    "    axs[xp,yp].hist(zhigh,bins)\n",
    "\n",
    "    beta.append(1.0 - stats.norm.cdf(zbeta_critical))\n",
    "    \n",
    "fig, axs = plt.subplots(1,1)\n",
    "axs.plot(mu_actual_guess,beta)\n",
    "    \n",
    "print(\"mu_actual_guess, beta = \",mu_actual_guess,beta)"
   ]
  },
  {
   "cell_type": "code",
   "execution_count": 10,
   "metadata": {},
   "outputs": [
    {
     "name": "stdout",
     "output_type": "stream",
     "text": [
      "-1.2815515655446004 0.8416212335729143 10.0 0.3\n",
      "N =  5008.736372125005\n"
     ]
    }
   ],
   "source": [
    "# Step 1:  Choose a value of alpha that you can live with\n",
    "\n",
    "alpha = 0.10\n",
    "\n",
    "# Step 2:  Choose a value of beta that you can live with\n",
    "\n",
    "beta = 0.20\n",
    "\n",
    "# Step 3:  Choose a sensitivity that you want to be able to detect - delta(mu)\n",
    "\n",
    "delta_mu = .3\n",
    "\n",
    "# Step 4:  Calculate z_alpha\n",
    "\n",
    "z_alpha = stats.norm.ppf(alpha)\n",
    "\n",
    "# Step 5:  Calculate z_beta\n",
    "\n",
    "z_beta = stats.norm.ppf(1-beta)\n",
    "\n",
    "# Step 6:  Calculate N\n",
    "\n",
    "N = (sigma*(z_beta-z_alpha)/delta_mu)**2\n",
    "\n",
    "print (z_alpha,z_beta,sigma,delta_mu)\n",
    "\n",
    "print(\"N = \",N)"
   ]
  },
  {
   "cell_type": "code",
   "execution_count": null,
   "metadata": {},
   "outputs": [],
   "source": []
  },
  {
   "cell_type": "code",
   "execution_count": null,
   "metadata": {},
   "outputs": [],
   "source": []
  }
 ],
 "metadata": {
  "kernelspec": {
   "display_name": "Python 3",
   "language": "python",
   "name": "python3"
  },
  "language_info": {
   "codemirror_mode": {
    "name": "ipython",
    "version": 3
   },
   "file_extension": ".py",
   "mimetype": "text/x-python",
   "name": "python",
   "nbconvert_exporter": "python",
   "pygments_lexer": "ipython3",
   "version": "3.6.8"
  }
 },
 "nbformat": 4,
 "nbformat_minor": 2
}
