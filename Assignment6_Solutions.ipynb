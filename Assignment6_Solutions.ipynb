{
 "cells": [
  {
   "cell_type": "markdown",
   "metadata": {},
   "source": [
    "# Assignment 6 Solutions"
   ]
  },
  {
   "cell_type": "code",
   "execution_count": 1,
   "metadata": {},
   "outputs": [],
   "source": [
    "import numpy as np\n",
    "import scipy.stats as stats\n",
    "import matplotlib.pyplot as plt\n",
    "import pandas as pd\n",
    "\n",
    "from statsmodels.formula.api import ols\n",
    "from statsmodels.stats.anova import anova_lm\n",
    "\n",
    "from q_tukey import q_tukey"
   ]
  },
  {
   "cell_type": "markdown",
   "metadata": {},
   "source": [
    "# Question 1\n",
    "\n",
    "The number of miles of useful tread wear (in 1000s) was determined for tires of each of five different makes of subcompact car (factor A, with I = 5) in combination with each of four different brands of radial tires (factor B, with J = 4), resulting in IJ = 20 observations. The values SSA = 30.3, SSB = 44.4, and SSE = 59.3 were then computed. Assume that an additive model is appropriate.\n",
    "\n",
    "(a) Test Ho: α1 = α2 = α3 = α4 = α5 = 0 (no differences in true average tire lifetime due to makes of cars) versus Ha: at least one αi ≠ 0 using a level .05 test. (Give answers accurate to 2 decimal places.)\n",
    "\n",
    "(b) Ho: β1 = β2 = β3 = β4 = 0 (no differences in true average tire lifetime due to brands of tires) versus Ha: at least one βi ≠ 0 using a level .05 test. (Give answers accurate to 2 decimal places.)"
   ]
  },
  {
   "cell_type": "code",
   "execution_count": 2,
   "metadata": {},
   "outputs": [
    {
     "name": "stdout",
     "output_type": "stream",
     "text": [
      "F Signal/Noise A = 1.53 \n",
      "Critical F-value A = 3.26\n",
      "Pvalue A = 0.255\n",
      "F Signal/Noise B = 2.99 \n",
      "Critical F-value B = 3.49\n",
      "Pvalue B = 0.073\n",
      "\n",
      "Source     df     Sum of Squares Mean Square     f     f_critical P-value\n",
      "A          4       30.30            7.58       1.53    3.26       0.255\n",
      "B          3       44.40           14.80       2.99    3.49       0.073\n",
      "Error      12      59.30            4.94\n",
      "Total      19     134.00\n"
     ]
    }
   ],
   "source": [
    "a = 5\n",
    "b = 4\n",
    "n = 1\n",
    "\n",
    "N = n*a*b\n",
    "\n",
    "v_total = N - 1\n",
    "v_a = a - 1\n",
    "v_b = b - 1\n",
    "v_error = v_total - v_a - v_b\n",
    "\n",
    "# NOTE!!  As only one data point is taken at each settings, we cannot determine correlations.\n",
    "\n",
    "SS_a = 30.3\n",
    "SS_b = 44.4\n",
    "SS_error = 59.3\n",
    "\n",
    "SS_total = SS_a + SS_b + SS_error\n",
    "\n",
    "# Calculate Mean squares, calculate f values, critical f values, and p values.\n",
    "\n",
    "MS_a = SS_a/v_a\n",
    "MS_b = SS_b/v_b\n",
    "MS_error = SS_error/v_error\n",
    "\n",
    "fSN_a = MS_a/MS_error\n",
    "fSN_b = MS_b/MS_error\n",
    "\n",
    "print (\"F Signal/Noise A = %0.2f \" % fSN_a)\n",
    "\n",
    "alpha = 0.05\n",
    "\n",
    "fdist_a = stats.f(v_a,v_error)\n",
    "fhigh_a = fdist_a.ppf(1-alpha)\n",
    "\n",
    "print (\"Critical F-value A = %0.2f\" % (fhigh_a))\n",
    "\n",
    "if (fSN_a > 1):\n",
    "    pvalue_a = (1-fdist_a.cdf(fSN_a))\n",
    "else:\n",
    "    pvalue_a = fdist_a.cdf(fSN_a)\n",
    "    \n",
    "print (\"Pvalue A = %0.3f\" % (pvalue_a))\n",
    "\n",
    "print (\"F Signal/Noise B = %0.2f \" % fSN_b)\n",
    "\n",
    "fdist_b = stats.f(v_b,v_error)\n",
    "fhigh_b = fdist_b.ppf(1-alpha)\n",
    "\n",
    "print (\"Critical F-value B = %0.2f\" % (fhigh_b))\n",
    "\n",
    "if (fSN_b > 1):\n",
    "    pvalue_b = (1-fdist_b.cdf(fSN_b))\n",
    "else:\n",
    "    pvalue_b = fdist_b.cdf(fSN_b)\n",
    "    \n",
    "print (\"Pvalue B = %0.3f\" % (pvalue_b))\n",
    "\n",
    "# Print table\n",
    "print()\n",
    "print (\"Source     df     Sum of Squares Mean Square     f     f_critical P-value\")\n",
    "print (\"A          %0.0f       %0.2f            %0.2f       %0.2f    %0.2f       %0.3f\" %(v_a,SS_a,MS_a,fSN_a,fhigh_a,pvalue_a))\n",
    "print (\"B          %0.0f       %0.2f           %0.2f       %0.2f    %0.2f       %0.3f\" %(v_b,SS_b,MS_b,fSN_b,fhigh_b,pvalue_b))\n",
    "print (\"Error      %0.0f      %0.2f            %0.2f\" %(v_error,SS_error,MS_error))\n",
    "print (\"Total      %0.0f     %0.2f\" %(v_total,SS_total))"
   ]
  },
  {
   "cell_type": "markdown",
   "metadata": {},
   "source": [
    "# Question 2\n",
    "\n",
    "Four different coatings are being considered for corrosion protection of metal pipe. The pipe will be buried in three different types of soil. To investigate whether the amount of corrosion depends either on the coating or on the type of soil, 12 pieces of pipe are selected. Each piece is coated with one of the four coatings and buried in one of the three types of soil for a fixed time, after which the amount of corrosion (depth of maximum pits, in .0001 in.) is determined. The data appears in the table.\n",
    "\n",
    "(a) Assuming the validity of the additive model, carry out the ANOVA analysis using an ANOVA table to see whether the amount of corrosion depends on either the type of coating used or the type of soil. Use α = .05. (Give answers accurate to 2 decimal places and the p-values to 3 decimal places.)\n",
    "\n",
    "(b) Compute the model parameters. (Give answers to 2 decimal places.)"
   ]
  },
  {
   "cell_type": "code",
   "execution_count": 3,
   "metadata": {},
   "outputs": [
    {
     "name": "stdout",
     "output_type": "stream",
     "text": [
      "           df      sum_sq    mean_sq         F    PR(>F)\n",
      "C(A)      3.0   48.666667  16.222222  0.812239  0.531998\n",
      "C(B)      2.0   78.166667  39.083333  1.956885  0.221686\n",
      "Residual  6.0  119.833333  19.972222       NaN       NaN\n"
     ]
    }
   ],
   "source": [
    "xijk = np.array([[63,1,1],[47,1,2],[48,1,3],\n",
    "                [52,2,1],[49,2,2],[50,2,3],\n",
    "                [47,3,1],[45,3,2],[51,3,3],\n",
    "                [49,4,1],[45,4,2],[50,4,3]])\n",
    "\n",
    "df = pd.DataFrame(xijk,columns=['value','A','B'])\n",
    "\n",
    "formula = 'value ~ C(A) + C(B)'\n",
    "lm = ols(formula,df).fit()\n",
    "anovaResults = anova_lm(lm)\n",
    "print (anovaResults)"
   ]
  },
  {
   "cell_type": "markdown",
   "metadata": {},
   "source": [
    "### The model parameters are simply the differences between the group averages and the overall average ($\\mu$)"
   ]
  },
  {
   "cell_type": "code",
   "execution_count": 4,
   "metadata": {},
   "outputs": [
    {
     "name": "stdout",
     "output_type": "stream",
     "text": [
      "v_a, v_b, v_ab, v_error, v_total =  3 2 6 0 11\n",
      "\n",
      "Xbarbar (mu) =  49.666666666666664\n"
     ]
    }
   ],
   "source": [
    "# calculate all degrees of freedom\n",
    "\n",
    "N = len(xijk)\n",
    "v_total = N - 1\n",
    "\n",
    "a = 4\n",
    "b = 3\n",
    "\n",
    "n = N/(a*b)\n",
    "\n",
    "v_a = a - 1\n",
    "v_b = b - 1\n",
    "v_ab = v_a*v_b\n",
    "\n",
    "v_error = v_total - v_a - v_b - v_ab\n",
    "\n",
    "print (\"v_a, v_b, v_ab, v_error, v_total = \",v_a, v_b, v_ab, v_error, v_total)\n",
    "\n",
    "# calculate the relevant averages and sums of squares\n",
    "xbarbar = df['value'].mean()\n",
    "print()\n",
    "print (\"Xbarbar (mu) = \",xbarbar)"
   ]
  },
  {
   "cell_type": "code",
   "execution_count": 5,
   "metadata": {},
   "outputs": [
    {
     "name": "stdout",
     "output_type": "stream",
     "text": [
      "alpha:  A\n",
      "1    3.000000\n",
      "2    0.666667\n",
      "3   -2.000000\n",
      "4   -1.666667\n",
      "Name: value, dtype: float64\n"
     ]
    }
   ],
   "source": [
    "x_a = df.groupby(['A'])[['value']].mean()\n",
    "x_a_bb = (x_a['value']-xbarbar)\n",
    "\n",
    "print(\"alpha: \",x_a_bb)"
   ]
  },
  {
   "cell_type": "code",
   "execution_count": 6,
   "metadata": {},
   "outputs": [
    {
     "name": "stdout",
     "output_type": "stream",
     "text": [
      "beta:  B\n",
      "1    3.083333\n",
      "2   -3.166667\n",
      "3    0.083333\n",
      "Name: value, dtype: float64\n"
     ]
    }
   ],
   "source": [
    "x_b = df.groupby(['B'])[['value']].mean()\n",
    "x_b_bb = (x_b['value']-xbarbar)\n",
    "\n",
    "print(\"beta: \",x_b_bb)"
   ]
  },
  {
   "cell_type": "markdown",
   "metadata": {},
   "source": [
    "# Question 3\n",
    "\n",
    "The article \"Adiabatic Humidification of Air with Water in a Packed Tower\" (Chem. Eng. Prog., 1952: 362-370) reports data on gas film heat transfer coefficient (Btu/hr ft2 on °F) as a function of gas rate (factor A) and liquid rate (factor B).\n",
    "\n",
    "(a) After constructing an ANOVA table, test at level .01 both the hypothesis of no gas-rate effect against the appropriate alternative and the hypothesis of no liquid-rate effect against the appropriate alternative. (Give answers accurate to 1 decimal place.)\n",
    "\n",
    "(b) Use Tukey's procedure to investigate differences in expected heat transfer coefficient due to different gas rates. (Give answers accurate to 2 decimal places.)\n",
    "\n",
    "(c) Repeat part (b) for liquid rates. (Give answers accurate to 2 decimal places.)"
   ]
  },
  {
   "cell_type": "code",
   "execution_count": 7,
   "metadata": {},
   "outputs": [
    {
     "name": "stdout",
     "output_type": "stream",
     "text": [
      "           df       sum_sq        mean_sq           F        PR(>F)\n",
      "C(A)      3.0  324082.1875  108027.395833  105.311956  2.504972e-07\n",
      "C(B)      3.0   39934.1875   13311.395833   12.976793  1.281863e-03\n",
      "Residual  9.0    9232.0625    1025.784722         NaN           NaN\n"
     ]
    }
   ],
   "source": [
    "xijk = np.array([[200,1,1],[226,1,2],[240,1,3],[261,1,4],\n",
    "                [278,2,1],[312,2,2],[330,2,3],[381,2,4],\n",
    "                [369,3,1],[416,3,2],[462,3,3],[517,3,4],\n",
    "                [500,4,1],[575,4,2],[645,4,3],[733,4,4]])\n",
    "\n",
    "df = pd.DataFrame(xijk,columns=['value','A','B'])\n",
    "\n",
    "formula = 'value ~ C(A) + C(B)'\n",
    "lm = ols(formula,df).fit()\n",
    "anovaResults = anova_lm(lm)\n",
    "print (anovaResults)\n",
    "\n",
    "a = 4\n",
    "b = 4\n",
    "n = 1\n",
    "\n",
    "N = n*a*b\n",
    "\n",
    "v_total = N - 1\n",
    "v_a = a - 1\n",
    "v_b = b - 1\n",
    "v_error = v_total - v_a - v_b\n",
    "\n",
    "alpha = 0.01\n",
    "\n",
    "fdist_a = stats.f(v_a,v_error)\n",
    "fhigh_a = fdist_a.ppf(1-alpha)\n",
    "\n",
    "#print (\"Critical F-value A = %0.2f\" % (fhigh_a))"
   ]
  },
  {
   "cell_type": "code",
   "execution_count": 8,
   "metadata": {},
   "outputs": [
    {
     "name": "stdout",
     "output_type": "stream",
     "text": [
      "Standard Error = 16.006\n",
      "Original Xbar =  [231.75 325.25 441.   613.25]\n",
      "Sorted Xbar =  [231.75 325.25 441.   613.25]\n",
      "q_tukey: calculating k =  2\n",
      "q_critical =  4.524647757521833\n",
      "q_tukey: calculating k =  3\n",
      "q_critical =  5.426582159217026\n",
      "q_tukey: calculating k =  4\n",
      "q_critical =  5.955182266371887\n",
      "[4.52464776 5.42658216 5.95518227]\n",
      "W = 95.3\n",
      "[231.75, 325.25, 441.0, 613.25]\n",
      "i j xbar1 xbar2 Diff Diff_comp Result\n",
      "1 2 231.8 325.2 5.842  4.525 Yes\n",
      "1 3 231.8 441.0 13.073  5.427 Yes\n",
      "1 4 231.8 613.2 23.835  5.955 Yes\n",
      "2 3 325.2 441.0 7.232  4.525 Yes\n",
      "2 4 325.2 613.2 17.993  5.427 Yes\n",
      "3 4 441.0 613.2 10.762  4.525 Yes\n"
     ]
    },
    {
     "data": {
      "image/png": "[encoded data removed]",
      "text/plain": [
       "<Figure size 432x288 with 1 Axes>"
      ]
     },
     "metadata": {
      "needs_background": "light"
     },
     "output_type": "display_data"
    }
   ],
   "source": [
    "xbar = df.groupby(['A'])[['value']].mean()\n",
    "xbar = np.array(xbar)\n",
    "xbar = xbar.flatten()\n",
    "\n",
    "MS_error = 1024.784722\n",
    "dof_error = 9\n",
    "alpha = 0.01\n",
    "n = 4\n",
    "\n",
    "# Tukey's Procedure\n",
    "#\n",
    "# Step 1:  Calculate the standard error = sqrt(MS_error/n)\n",
    "\n",
    "from q_tukey import q_tukey\n",
    "\n",
    "std_error = np.sqrt(MS_error/n)\n",
    "print (\"Standard Error = %0.3f\" % std_error)\n",
    "\n",
    "# Step 2:  Order the means from smallest to largest\n",
    "\n",
    "print (\"Original Xbar = \",xbar)\n",
    "xbar_orig = xbar.copy()\n",
    "xbar.sort()\n",
    "print (\"Sorted Xbar = \",xbar)\n",
    "\n",
    "# Step 3:  Get the expected number of error bars (sem) between largest and smallest, for the number\n",
    "# of means to be compared (a).  For this, we need the studentized range table values q(alpha,dof_error,k) for k=2..a.\n",
    "# \n",
    "n_means=len(xbar)\n",
    "q = q_tukey(n_means,dof_error,alpha)\n",
    "print (q)\n",
    "\n",
    "# Step 4:  Calculate W = q(k=5)*std_error\n",
    "\n",
    "W = q[n_means-2]*std_error\n",
    "\n",
    "print (\"W = %0.1f\" % W)\n",
    "\n",
    "# Step 5:  Make pair-wise comparisons\n",
    "\n",
    "print (list(xbar_orig))\n",
    "\n",
    "print (\"i j xbar1 xbar2 Diff Diff_comp Result\")\n",
    "for i in range(len(xbar)):\n",
    "    for j in range(len(xbar)):\n",
    "        if (xbar[j] > xbar[i]):\n",
    "            diff = (xbar[j] - xbar[i])/std_error\n",
    "            diff_comp = q[j-i-1]\n",
    "            if (diff>diff_comp):\n",
    "                Result = \"Yes\"\n",
    "            else:\n",
    "                Result = \"No\"\n",
    "            iorig = list(xbar_orig).index(xbar[i])+1\n",
    "            jorig = list(xbar_orig).index(xbar[j])+1\n",
    "            print (\"%0.0f %0.0f %0.1f %0.1f %0.3f  %0.3f %s\" % (iorig,jorig,xbar[i],xbar[j],diff,diff_comp,Result))\n"
   ]
  },
  {
   "cell_type": "code",
   "execution_count": 9,
   "metadata": {},
   "outputs": [
    {
     "name": "stdout",
     "output_type": "stream",
     "text": [
      "Standard Error = 16.006\n",
      "Original Xbar =  [336.75 382.25 419.25 473.  ]\n",
      "Sorted Xbar =  [336.75 382.25 419.25 473.  ]\n",
      "q_tukey: calculating k =  2\n",
      "q_critical =  4.524647757521833\n",
      "q_tukey: calculating k =  3\n",
      "q_critical =  5.426582159217026\n",
      "q_tukey: calculating k =  4\n",
      "q_critical =  5.955182266371887\n",
      "[4.52464776 5.42658216 5.95518227]\n",
      "W = 95.3\n",
      "[336.75, 382.25, 419.25, 473.0]\n",
      "i j xbar1 xbar2 Diff Diff_comp Result\n",
      "1 2 336.8 382.2 2.843  4.525 No\n",
      "1 3 336.8 419.2 5.154  5.427 No\n",
      "1 4 336.8 473.0 8.512  5.955 Yes\n",
      "2 3 382.2 419.2 2.312  4.525 No\n",
      "2 4 382.2 473.0 5.670  5.427 Yes\n",
      "3 4 419.2 473.0 3.358  4.525 No\n"
     ]
    },
    {
     "data": {
      "image/png": "[encoded data removed]",
      "text/plain": [
       "<Figure size 432x288 with 1 Axes>"
      ]
     },
     "metadata": {
      "needs_background": "light"
     },
     "output_type": "display_data"
    }
   ],
   "source": [
    "xbar = df.groupby(['B'])[['value']].mean()\n",
    "xbar = np.array(xbar)\n",
    "xbar = xbar.flatten()\n",
    "\n",
    "MS_error = 1024.784722\n",
    "dof_error = 9\n",
    "alpha = 0.01\n",
    "n = 4\n",
    "\n",
    "# Tukey's Procedure\n",
    "#\n",
    "# Step 1:  Calculate the standard error = sqrt(MS_error/n)\n",
    "\n",
    "from q_tukey import q_tukey\n",
    "\n",
    "std_error = np.sqrt(MS_error/n)\n",
    "print (\"Standard Error = %0.3f\" % std_error)\n",
    "\n",
    "# Step 2:  Order the means from smallest to largest\n",
    "\n",
    "print (\"Original Xbar = \",xbar)\n",
    "xbar_orig = xbar.copy()\n",
    "xbar.sort()\n",
    "print (\"Sorted Xbar = \",xbar)\n",
    "\n",
    "# Step 3:  Get the expected number of error bars (sem) between largest and smallest, for the number\n",
    "# of means to be compared (a).  For this, we need the studentized range table values q(alpha,dof_error,k) for k=2..a.\n",
    "# \n",
    "n_means=len(xbar)\n",
    "q = q_tukey(n_means,dof_error,alpha)\n",
    "print (q)\n",
    "\n",
    "# Step 4:  Calculate W = q(k=5)*std_error\n",
    "\n",
    "W = q[n_means-2]*std_error\n",
    "\n",
    "print (\"W = %0.1f\" % W)\n",
    "\n",
    "# Step 5:  Make pair-wise comparisons\n",
    "\n",
    "print (list(xbar_orig))\n",
    "\n",
    "print (\"i j xbar1 xbar2 Diff Diff_comp Result\")\n",
    "for i in range(len(xbar)):\n",
    "    for j in range(len(xbar)):\n",
    "        if (xbar[j] > xbar[i]):\n",
    "            diff = (xbar[j] - xbar[i])/std_error\n",
    "            diff_comp = q[j-i-1]\n",
    "            if (diff>diff_comp):\n",
    "                Result = \"Yes\"\n",
    "            else:\n",
    "                Result = \"No\"\n",
    "            iorig = list(xbar_orig).index(xbar[i])+1\n",
    "            jorig = list(xbar_orig).index(xbar[j])+1\n",
    "            print (\"%0.0f %0.0f %0.1f %0.1f %0.3f  %0.3f %s\" % (iorig,jorig,xbar[i],xbar[j],diff,diff_comp,Result))\n",
    "\n"
   ]
  },
  {
   "cell_type": "markdown",
   "metadata": {},
   "source": [
    "# Question 4\n",
    "\n",
    "In an experiment to assess the effect of the angle of pull on the force required to cause separation in electrical connectors, four different angles (factor A) were used and each of a sample of five connectors (factor B) was pulled once at each angle. The data appears in the accompanying table.\n",
    "\n",
    "Does the data suggest that true average separation force is affected by the angle of pull? State and test the appropriate hypotheses at level .01 by first constructing an ANOVA table (SST = 396.08, SSA = 56.12, SSB = 249.19). (Give answers accurate to 2 decimal places and the p-values to 3 decimal places.)"
   ]
  },
  {
   "cell_type": "code",
   "execution_count": 10,
   "metadata": {},
   "outputs": [
    {
     "name": "stdout",
     "output_type": "stream",
     "text": [
      "            df   sum_sq   mean_sq         F    PR(>F)\n",
      "C(A)       3.0   56.118  18.70600  2.472785  0.111669\n",
      "C(B)       4.0  249.187  62.29675  8.235137  0.001957\n",
      "Residual  12.0   90.777   7.56475       NaN       NaN\n"
     ]
    }
   ],
   "source": [
    "xijk = np.array([[45.4,1,1],[42.3,1,2],[39.7,1,3],[36.6,1,4],[46.0,1,5],\n",
    "                [44.1,2,1],[44.0,2,2],[38.1,2,3],[38.0,2,4],[47.0,2,5],\n",
    "                [42.7,3,1],[42.5,3,2],[42.7,3,3],[42.3,3,4],[49.0,3,5],\n",
    "                [43.8,4,1],[45.9,4,2],[47.8,4,3],[37.5,4,4],[56.0,4,5]])\n",
    "\n",
    "df = pd.DataFrame(xijk,columns=['value','A','B'])\n",
    "\n",
    "formula = 'value ~ C(A) + C(B)'\n",
    "lm = ols(formula,df).fit()\n",
    "anovaResults = anova_lm(lm)\n",
    "print (anovaResults)"
   ]
  },
  {
   "cell_type": "markdown",
   "metadata": {},
   "source": [
    "# Question 5\n",
    "\n",
    "The article \"The Effects of a Pneumatic Stool and a One-Legged Stool on Lower Limb Joint Load and Muscular Activity During Sitting and Rising\" (Ergonomics, 1993: 519-535) gives the accompanying data on the effort required of a subject to arise from four different types of stools (Borg Scale).\n",
    "\n",
    "Perform an analysis of variance using α = .05. (Give answers accurate to 2 decimal places.)\n",
    "\n"
   ]
  },
  {
   "cell_type": "code",
   "execution_count": 11,
   "metadata": {},
   "outputs": [
    {
     "name": "stdout",
     "output_type": "stream",
     "text": [
      "            df     sum_sq    mean_sq          F        PR(>F)\n",
      "C(A)       3.0  81.194444  27.064815  22.355641  3.934564e-07\n",
      "C(B)       8.0  66.500000   8.312500   6.866157  1.060853e-04\n",
      "Residual  24.0  29.055556   1.210648        NaN           NaN\n",
      "Critical F-value A = 3.01\n"
     ]
    }
   ],
   "source": [
    "xijk = np.array([[12,1,1],[10,1,2],[7,1,3],[7,1,4],[8,1,5],[9,1,6],[8,1,7],[7,1,8],[9,1,9],\n",
    "                [15,2,1],[14,2,2],[14,2,3],[11,2,4],[11,2,5],[11,2,6],[12,2,7],[11,2,8],[13,2,9],\n",
    "                [12,3,1],[13,3,2],[13,3,3],[10,3,4],[8,3,5],[11,3,6],[12,3,7],[8,3,8],[10,3,9],\n",
    "                [10,4,1],[12,4,2],[9,4,3],[9,4,4],[7,4,5],[10,4,6],[11,4,7],[7,4,8],[8,4,9]])\n",
    "\n",
    "df = pd.DataFrame(xijk,columns=['value','A','B'])\n",
    "\n",
    "formula = 'value ~ C(A) + C(B)'\n",
    "lm = ols(formula,df).fit()\n",
    "anovaResults = anova_lm(lm)\n",
    "print (anovaResults)\n",
    "\n",
    "a = 4\n",
    "b = 9\n",
    "n = 1\n",
    "\n",
    "N = n*a*b\n",
    "\n",
    "v_total = N - 1\n",
    "v_a = a - 1\n",
    "v_b = b - 1\n",
    "v_error = v_total - v_a - v_b\n",
    "\n",
    "alpha = 0.05\n",
    "\n",
    "fdist_a = stats.f(v_a,v_error)\n",
    "fhigh_a = fdist_a.ppf(1-alpha)\n",
    "\n",
    "print (\"Critical F-value A = %0.2f\" % (fhigh_a))"
   ]
  },
  {
   "cell_type": "code",
   "execution_count": 12,
   "metadata": {},
   "outputs": [
    {
     "name": "stdout",
     "output_type": "stream",
     "text": [
      "[ 8.55555556 12.44444444 10.77777778  9.22222222]\n",
      "Standard Error = 0.367\n",
      "Original Xbar =  [ 8.55555556 12.44444444 10.77777778  9.22222222]\n",
      "Sorted Xbar =  [ 8.55555556  9.22222222 10.77777778 12.44444444]\n",
      "q_tukey: calculating k =  2\n",
      "q_critical =  2.9058174025748973\n",
      "q_tukey: calculating k =  3\n",
      "q_critical =  3.5302035366602835\n",
      "q_tukey: calculating k =  4\n",
      "q_critical =  3.8997621338924193\n",
      "[2.9058174  3.53020354 3.89976213]\n",
      "W = 1.43\n",
      "[8.555555555555555, 12.444444444444445, 10.777777777777779, 9.222222222222221]\n",
      "i j xbar1 xbar2 Diff Diff_comp Result\n",
      "1 4 8.6 9.2 1.818  2.906 No\n",
      "1 3 8.6 10.8 6.059  3.530 Yes\n",
      "1 2 8.6 12.4 10.603  3.900 Yes\n",
      "4 3 9.2 10.8 4.241  2.906 Yes\n",
      "4 2 9.2 12.4 8.786  3.530 Yes\n",
      "3 2 10.8 12.4 4.544  2.906 Yes\n"
     ]
    },
    {
     "data": {
      "image/png": "[encoded data removed]",
      "text/plain": [
       "<Figure size 432x288 with 1 Axes>"
      ]
     },
     "metadata": {
      "needs_background": "light"
     },
     "output_type": "display_data"
    }
   ],
   "source": [
    "xbar = df.groupby(['A'])[['value']].mean()\n",
    "xbar = np.array(xbar)\n",
    "xbar = xbar.flatten()\n",
    "print (xbar)\n",
    "\n",
    "MS_error = 1.210648\n",
    "dof_error = v_error\n",
    "alpha = 0.05\n",
    "n = 9\n",
    "\n",
    "# Tukey's Procedure\n",
    "#\n",
    "# Step 1:  Calculate the standard error = sqrt(MS_error/n)\n",
    "\n",
    "from q_tukey import q_tukey\n",
    "\n",
    "std_error = np.sqrt(MS_error/n)\n",
    "print (\"Standard Error = %0.3f\" % std_error)\n",
    "\n",
    "# Step 2:  Order the means from smallest to largest\n",
    "\n",
    "print (\"Original Xbar = \",xbar)\n",
    "xbar_orig = xbar.copy()\n",
    "xbar.sort()\n",
    "print (\"Sorted Xbar = \",xbar)\n",
    "\n",
    "# Step 3:  Get the expected number of error bars (sem) between largest and smallest, for the number\n",
    "# of means to be compared (a).  For this, we need the studentized range table values q(alpha,dof_error,k) for k=2..a.\n",
    "# \n",
    "n_means=len(xbar)\n",
    "q = q_tukey(n_means,dof_error,alpha)\n",
    "print (q)\n",
    "\n",
    "# Step 4:  Calculate W = q(k=5)*std_error\n",
    "\n",
    "W = q[n_means-2]*std_error\n",
    "\n",
    "print (\"W = %0.2f\" % W)\n",
    "\n",
    "# Step 5:  Make pair-wise comparisons\n",
    "\n",
    "print (list(xbar_orig))\n",
    "\n",
    "print (\"i j xbar1 xbar2 Diff Diff_comp Result\")\n",
    "for i in range(len(xbar)):\n",
    "    for j in range(len(xbar)):\n",
    "        if (xbar[j] > xbar[i]):\n",
    "            diff = (xbar[j] - xbar[i])/std_error\n",
    "            diff_comp = q[j-i-1]\n",
    "            if (diff>diff_comp):\n",
    "                Result = \"Yes\"\n",
    "            else:\n",
    "                Result = \"No\"\n",
    "            iorig = list(xbar_orig).index(xbar[i])+1\n",
    "            jorig = list(xbar_orig).index(xbar[j])+1\n",
    "            print (\"%0.0f %0.0f %0.1f %0.1f %0.3f  %0.3f %s\" % (iorig,jorig,xbar[i],xbar[j],diff,diff_comp,Result))"
   ]
  },
  {
   "cell_type": "markdown",
   "metadata": {},
   "source": [
    "# Question 6\n",
    "\n",
    "In an experiment to assess the effects of curing time (factor A) and type of mix (factor B) on the compressive strength of hardened cement cubes, three different curing times were used in combination with four different mixes, with three observations obtained for each of the 12 curing time-mix combinations. The resulting sums of squares were computed to be SSA = 29,521.1, SSB = 35,170.8, SSE = 97,521.8, and SST = 205,578.5.\n",
    "\n",
    "(a) Construct an ANOVA table. (Give df as exact integers, SS and MS to 1 decimal place, F to 2 decimal places, and p-values to 3 decimal places.)\n",
    "\n",
    "(b) Test at level .05 the null hypothesis HoAB: all γij's = 0 (no interaction of factors) against HaAB: at least one γij ≠ 0.\n",
    "\n",
    "(c) Test at level .05 the null hypothesis HoA: α1 = α2 = α3 = 0 (factor A main effects are absent) against HaA: at least one αi ≠ 0.\n",
    "\n",
    "(d) Test HoB: β1 = β2 = β3 = β4 = 0 versus HaB: at least one βj ≠ 0 using a level .05 test.\n",
    "\n",
    "(e) The values of the xi..'s were x1.. = 4010.88, x2.. = 4029.10, and x3.. = 3960.02. Use Tukey's procedure to investigate significant differences among the three curing times. (Give answer accurate to 2 decimal places.)\n"
   ]
  },
  {
   "cell_type": "code",
   "execution_count": 13,
   "metadata": {},
   "outputs": [
    {
     "name": "stdout",
     "output_type": "stream",
     "text": [
      "v_a, v_b, v_ab, v_error, v_total =  2 3 6 24 35\n"
     ]
    }
   ],
   "source": [
    "# Calculate the relevant degrees of freedom\n",
    "a = 3\n",
    "b = 4\n",
    "n = 3\n",
    "\n",
    "N = n*a*b\n",
    "\n",
    "v_total = N - 1\n",
    "v_a = a - 1\n",
    "v_b = b - 1\n",
    "v_ab = (a-1)*(b-1)\n",
    "v_treatment = v_a + v_b + v_ab\n",
    "v_error = v_total - v_treatment\n",
    "\n",
    "print (\"v_a, v_b, v_ab, v_error, v_total = \",v_a, v_b, v_ab, v_error, v_total)\n"
   ]
  },
  {
   "cell_type": "code",
   "execution_count": 14,
   "metadata": {},
   "outputs": [
    {
     "name": "stdout",
     "output_type": "stream",
     "text": [
      "SS_ab = 43364.8\n"
     ]
    }
   ],
   "source": [
    "# Calculate the relevant sums of squares\n",
    "SS_a = 29521.1\n",
    "SS_b = 35170.8\n",
    "SS_error = 97521.8\n",
    "SS_total = 205578.5\n",
    "\n",
    "SS_ab = SS_total - SS_a - SS_b - SS_error\n",
    "\n",
    "print (\"SS_ab = %0.1f\" % SS_ab)"
   ]
  },
  {
   "cell_type": "code",
   "execution_count": 15,
   "metadata": {},
   "outputs": [
    {
     "name": "stdout",
     "output_type": "stream",
     "text": [
      "F Signal/Noise A = 3.63 \n",
      "Critical F-value A = 3.40\n",
      "Pvalue A = 0.042\n",
      "F Signal/Noise B = 2.89 \n",
      "Critical F-value B = 3.01\n",
      "Pvalue B = 0.057\n",
      "F Signal/Noise AB = 1.78 \n",
      "Critical F-value AB = 2.51\n",
      "Pvalue AB = 0.146\n",
      "\n",
      "Source     df     Sum of Squares   Mean Square       f     P-value\n",
      "A          2       29521.10           14760.55       3.63    0.042\n",
      "B          3       35170.80           11723.60       2.89    0.057\n",
      "AB         6       43364.80            7227.47       1.78    0.146\n",
      "Error      24      97521.80            4063.41\n",
      "Total      35     205578.50\n"
     ]
    }
   ],
   "source": [
    "# Calculate the relevant mean squares, f values, critical f values, and p-values\n",
    "\n",
    "MS_a = SS_a/v_a\n",
    "MS_b = SS_b/v_b\n",
    "MS_ab = SS_ab/v_ab\n",
    "MS_error = SS_error/v_error\n",
    "\n",
    "fSN_a = MS_a/MS_error\n",
    "fSN_b = MS_b/MS_error\n",
    "fSN_ab = MS_ab/MS_error\n",
    "\n",
    "print (\"F Signal/Noise A = %0.2f \" % fSN_a)\n",
    "\n",
    "alpha = 0.05\n",
    "\n",
    "fdist_a = stats.f(v_a,v_error)\n",
    "fhigh_a = fdist_a.ppf(1-alpha)\n",
    "\n",
    "print (\"Critical F-value A = %0.2f\" % (fhigh_a))\n",
    "\n",
    "if (fSN_a > 1):\n",
    "    pvalue_a = (1-fdist_a.cdf(fSN_a))\n",
    "else:\n",
    "    pvalue_a = fdist_a.cdf(fSN_a)\n",
    "    \n",
    "print (\"Pvalue A = %0.3f\" % (pvalue_a))\n",
    "\n",
    "\n",
    "print (\"F Signal/Noise B = %0.2f \" % fSN_b)\n",
    "\n",
    "fdist_b = stats.f(v_b,v_error)\n",
    "fhigh_b = fdist_b.ppf(1-alpha)\n",
    "\n",
    "print (\"Critical F-value B = %0.2f\" % (fhigh_b))\n",
    "\n",
    "if (fSN_b > 1):\n",
    "    pvalue_b = (1-fdist_b.cdf(fSN_b))\n",
    "else:\n",
    "    pvalue_b = fdist_b.cdf(fSN_b)\n",
    "    \n",
    "print (\"Pvalue B = %0.3f\" % (pvalue_b))\n",
    "\n",
    "print (\"F Signal/Noise AB = %0.2f \" % fSN_ab)\n",
    "\n",
    "fdist_ab = stats.f(v_ab,v_error)\n",
    "fhigh_ab = fdist_ab.ppf(1-alpha)\n",
    "\n",
    "print (\"Critical F-value AB = %0.2f\" % (fhigh_ab))\n",
    "\n",
    "if (fSN_ab > 1):\n",
    "    pvalue_ab = (1-fdist_ab.cdf(fSN_ab))\n",
    "else:\n",
    "    pvalue_ab = fdist_ab.cdf(fSN_ab)\n",
    "    \n",
    "print (\"Pvalue AB = %0.3f\" % (pvalue_ab))\n",
    "\n",
    "# Print table\n",
    "print()\n",
    "print (\"Source     df     Sum of Squares   Mean Square       f     P-value\")\n",
    "print (\"A          %0.0f       %0.2f           %0.2f       %0.2f    %0.3f\" %(v_a,SS_a,MS_a,fSN_a,pvalue_a))\n",
    "print (\"B          %0.0f       %0.2f           %0.2f       %0.2f    %0.3f\" %(v_b,SS_b,MS_b,fSN_b,pvalue_b))\n",
    "print (\"AB         %0.0f       %0.2f            %0.2f       %0.2f    %0.3f\" %(v_ab,SS_ab,MS_ab,fSN_ab,pvalue_ab))\n",
    "print (\"Error      %0.0f      %0.2f            %0.2f\" %(v_error,SS_error,MS_error))\n",
    "print (\"Total      %0.0f     %0.2f\" %(v_total,SS_total))"
   ]
  },
  {
   "cell_type": "code",
   "execution_count": 16,
   "metadata": {},
   "outputs": [
    {
     "name": "stdout",
     "output_type": "stream",
     "text": [
      "Standard Error = 18.402\n",
      "Original Xbar =  [4010.88 4029.1  3960.02]\n",
      "Sorted Xbar =  [3960.02 4010.88 4029.1 ]\n",
      "q_tukey: calculating k =  2\n",
      "q_critical =  2.9058174025748973\n",
      "q_tukey: calculating k =  3\n",
      "q_critical =  3.5302035366602835\n",
      "[2.9058174  3.53020354]\n",
      "W = 64.96\n",
      "[4010.88, 4029.1, 3960.02]\n",
      "i j xbar1 xbar2 Diff Diff_comp Result\n",
      "3 1 3960.0 4010.9 2.764  2.906 No\n",
      "3 2 3960.0 4029.1 3.754  3.530 Yes\n",
      "1 2 4010.9 4029.1 0.990  2.906 No\n"
     ]
    },
    {
     "data": {
      "image/png": "[encoded data removed]",
      "text/plain": [
       "<Figure size 432x288 with 1 Axes>"
      ]
     },
     "metadata": {
      "needs_background": "light"
     },
     "output_type": "display_data"
    }
   ],
   "source": [
    "xbar = np.array([4010.88,4029.10,3960.02])\n",
    "\n",
    "dof_error = v_error\n",
    "alpha = 0.05\n",
    "n=N/len(xbar)\n",
    "\n",
    "# Tukey's Procedure\n",
    "#\n",
    "# Step 1:  Calculate the standard error = sqrt(MS_error/n)\n",
    "\n",
    "from q_tukey import q_tukey\n",
    "\n",
    "std_error = np.sqrt(MS_error/n)\n",
    "print (\"Standard Error = %0.3f\" % std_error)\n",
    "\n",
    "# Step 2:  Order the means from smallest to largest\n",
    "\n",
    "print (\"Original Xbar = \",xbar)\n",
    "xbar_orig = xbar.copy()\n",
    "xbar.sort()\n",
    "print (\"Sorted Xbar = \",xbar)\n",
    "\n",
    "# Step 3:  Get the expected number of error bars (sem) between largest and smallest, for the number\n",
    "# of means to be compared (a).  For this, we need the studentized range table values q(alpha,dof_error,k) for k=2..a.\n",
    "# \n",
    "n_means=len(xbar)\n",
    "q = q_tukey(n_means,dof_error,alpha)\n",
    "print (q)\n",
    "\n",
    "# Step 4:  Calculate W = q(k=5)*std_error\n",
    "\n",
    "W = q[n_means-2]*std_error\n",
    "\n",
    "print (\"W = %0.2f\" % W)\n",
    "\n",
    "# Step 5:  Make pair-wise comparisons\n",
    "\n",
    "print (list(xbar_orig))\n",
    "\n",
    "print (\"i j xbar1 xbar2 Diff Diff_comp Result\")\n",
    "for i in range(len(xbar)):\n",
    "    for j in range(len(xbar)):\n",
    "        if (xbar[j] > xbar[i]):\n",
    "            diff = (xbar[j] - xbar[i])/std_error\n",
    "            diff_comp = q[j-i-1]\n",
    "            if (diff>diff_comp):\n",
    "                Result = \"Yes\"\n",
    "            else:\n",
    "                Result = \"No\"\n",
    "            iorig = list(xbar_orig).index(xbar[i])+1\n",
    "            jorig = list(xbar_orig).index(xbar[j])+1\n",
    "            print (\"%0.0f %0.0f %0.1f %0.1f %0.3f  %0.3f %s\" % (iorig,jorig,xbar[i],xbar[j],diff,diff_comp,Result))"
   ]
  },
  {
   "cell_type": "markdown",
   "metadata": {},
   "source": [
    "# Question 7\n",
    "\n",
    "To see whether thrust force in drilling is affected by drilling speed (A), feed rate (B), or material used (C), an experiment using four speeds, three rates, and two materials was performed, with two samples (L = 2) drilled at each combination of levels of the three factors. Sums of squares were calculated as follows: SSA = 19,122.02, SSB = 2,589,419.28, SSC = 158,083.12, SSAB = 52,465.89, SSAC = 9,046.12, SSBC = 92,061.74, and SSE = 57,721.17, and SST = 3,011,312.03. Construct the ANOVA table and identify significant interactions using α = 0.01. (Give SS and MS accurate to 1 decimal place, F values to 2 decimal places, and Df as exact integers.)"
   ]
  },
  {
   "cell_type": "code",
   "execution_count": 17,
   "metadata": {},
   "outputs": [
    {
     "name": "stdout",
     "output_type": "stream",
     "text": [
      "v_a, v_b, v_c, v_ab, v_ac, v_bc, v_abc, v_error, v_total =  3 2 1 6 3 2 6 24 47\n"
     ]
    }
   ],
   "source": [
    "# Calculate the relevant degrees of freedom\n",
    "a = 4\n",
    "b = 3\n",
    "c = 2\n",
    "n = 2\n",
    "\n",
    "N = n*a*b*c\n",
    "\n",
    "v_total = N - 1\n",
    "v_a = a - 1\n",
    "v_b = b - 1\n",
    "v_c = c - 1\n",
    "v_ab = (a-1)*(b-1)\n",
    "v_ac = (a-1)*(c-1)\n",
    "v_bc = (b-1)*(c-1)\n",
    "v_abc = (a-1)*(b-1)*(c-1)\n",
    "v_treatment = v_a + v_b + v_c + v_ab + v_ac + v_bc + v_abc\n",
    "v_error = v_total - v_treatment\n",
    "\n",
    "print (\"v_a, v_b, v_c, v_ab, v_ac, v_bc, v_abc, v_error, v_total = \",v_a, v_b, v_c, v_ab, v_ac, v_bc, v_abc, v_error, v_total)"
   ]
  },
  {
   "cell_type": "code",
   "execution_count": 18,
   "metadata": {},
   "outputs": [
    {
     "name": "stdout",
     "output_type": "stream",
     "text": [
      "SS_abc = 33392.69\n"
     ]
    }
   ],
   "source": [
    "# Calculate the relevant sums of squares\n",
    "SS_a = 19122.02\n",
    "SS_b = 2589419.28\n",
    "SS_c = 158083.12\n",
    "SS_ab = 52465.89\n",
    "SS_ac = 9046.12\n",
    "SS_bc = 92061.74\n",
    "SS_error = 57721.17 \n",
    "SS_total = 3011312.03\n",
    "\n",
    "SS_abc = SS_total - SS_a - SS_b - SS_c - SS_ab - SS_ac - SS_bc - SS_error\n",
    "\n",
    "print (\"SS_abc = %0.2f\" % SS_abc)"
   ]
  },
  {
   "cell_type": "code",
   "execution_count": 19,
   "metadata": {},
   "outputs": [
    {
     "name": "stdout",
     "output_type": "stream",
     "text": [
      "F Signal/Noise A = 2.65 \n",
      "Critical F-value A = 4.72\n",
      "Pvalue A = 0.072\n",
      "F Signal/Noise B = 538.33 \n",
      "Critical F-value B = 5.61\n",
      "Pvalue B = 0.000\n",
      "F Signal/Noise C = 65.73 \n",
      "Critical F-value C = 7.82\n",
      "Pvalue C = 0.000\n",
      "F Signal/Noise AB = 3.64 \n",
      "Critical F-value AB = 3.67\n",
      "Pvalue AB = 0.010\n",
      "F Signal/Noise AC = 1.25 \n",
      "Critical F-value AC = 4.72\n",
      "Pvalue AC = 0.312\n",
      "F Signal/Noise BC = 19.14 \n",
      "Critical F-value BC = 5.61\n",
      "Pvalue BC = 0.000\n",
      "F Signal/Noise ABC = 2.31 \n",
      "Critical F-value ABC = 3.67\n",
      "Pvalue ABC = 0.066\n",
      "\n",
      "Source     df     Sum of Squares   Mean Square       f     P-value\n",
      "A          3       19122.02           6374.01       2.65    0.072\n",
      "B          2       2589419.28      1294709.64     538.33    0.000\n",
      "C          1       158083.12        158083.12      65.73    0.000\n",
      "AB         6       52465.89           8744.32       3.64    0.010\n",
      "AC         3       9046.12            3015.37       1.25    0.312\n",
      "BC         2       92061.74          46030.87      19.14    0.000\n",
      "ABC        6       33392.69           5565.45       2.31    0.066\n",
      "Error      24      57721.17           2405.05\n",
      "Total      47     3011312.03\n"
     ]
    }
   ],
   "source": [
    "# Calculate the relevant mean squares, f values, critical f values, and p-values\n",
    "\n",
    "MS_a = SS_a/v_a\n",
    "MS_b = SS_b/v_b\n",
    "MS_c = SS_c/v_c\n",
    "MS_ab = SS_ab/v_ab\n",
    "MS_ac = SS_ac/v_ac\n",
    "MS_bc = SS_bc/v_bc\n",
    "MS_abc = SS_abc/v_abc\n",
    "MS_error = SS_error/v_error\n",
    "\n",
    "fSN_a = MS_a/MS_error\n",
    "fSN_b = MS_b/MS_error\n",
    "fSN_c = MS_c/MS_error\n",
    "fSN_ab = MS_ab/MS_error\n",
    "fSN_ac = MS_ac/MS_error\n",
    "fSN_bc = MS_bc/MS_error\n",
    "fSN_abc = MS_abc/MS_error\n",
    "\n",
    "print (\"F Signal/Noise A = %0.2f \" % fSN_a)\n",
    "\n",
    "alpha = 0.01\n",
    "\n",
    "##############\n",
    "\n",
    "fdist_a = stats.f(v_a,v_error)\n",
    "fhigh_a = fdist_a.ppf(1-alpha)\n",
    "\n",
    "print (\"Critical F-value A = %0.2f\" % (fhigh_a))\n",
    "\n",
    "if (fSN_a > 1):\n",
    "    pvalue_a = (1-fdist_a.cdf(fSN_a))\n",
    "else:\n",
    "    pvalue_a = fdist_a.cdf(fSN_a)\n",
    "    \n",
    "print (\"Pvalue A = %0.3f\" % (pvalue_a))\n",
    "\n",
    "##############\n",
    "\n",
    "print (\"F Signal/Noise B = %0.2f \" % fSN_b)\n",
    "\n",
    "fdist_b = stats.f(v_b,v_error)\n",
    "fhigh_b = fdist_b.ppf(1-alpha)\n",
    "\n",
    "print (\"Critical F-value B = %0.2f\" % (fhigh_b))\n",
    "\n",
    "if (fSN_b > 1):\n",
    "    pvalue_b = (1-fdist_b.cdf(fSN_b))\n",
    "else:\n",
    "    pvalue_b = fdist_b.cdf(fSN_b)\n",
    "    \n",
    "print (\"Pvalue B = %0.3f\" % (pvalue_b))\n",
    "\n",
    "##############\n",
    "\n",
    "print (\"F Signal/Noise C = %0.2f \" % fSN_c)\n",
    "\n",
    "fdist_c = stats.f(v_c,v_error)\n",
    "fhigh_c = fdist_c.ppf(1-alpha)\n",
    "\n",
    "print (\"Critical F-value C = %0.2f\" % (fhigh_c))\n",
    "\n",
    "if (fSN_c > 1):\n",
    "    pvalue_c = (1-fdist_c.cdf(fSN_c))\n",
    "else:\n",
    "    pvalue_c = fdist_c.cdf(fSN_c)\n",
    "    \n",
    "print (\"Pvalue C = %0.3f\" % (pvalue_c))\n",
    "\n",
    "##############\n",
    "\n",
    "print (\"F Signal/Noise AB = %0.2f \" % fSN_ab)\n",
    "\n",
    "fdist_ab = stats.f(v_ab,v_error)\n",
    "fhigh_ab = fdist_ab.ppf(1-alpha)\n",
    "\n",
    "print (\"Critical F-value AB = %0.2f\" % (fhigh_ab))\n",
    "\n",
    "if (fSN_ab > 1):\n",
    "    pvalue_ab = (1-fdist_ab.cdf(fSN_ab))\n",
    "else:\n",
    "    pvalue_ab = fdist_ab.cdf(fSN_ab)\n",
    "    \n",
    "print (\"Pvalue AB = %0.3f\" % (pvalue_ab))\n",
    "\n",
    "##############\n",
    "\n",
    "print (\"F Signal/Noise AC = %0.2f \" % fSN_ac)\n",
    "\n",
    "fdist_ac = stats.f(v_ac,v_error)\n",
    "fhigh_ac = fdist_ac.ppf(1-alpha)\n",
    "\n",
    "print (\"Critical F-value AC = %0.2f\" % (fhigh_ac))\n",
    "\n",
    "if (fSN_ac > 1):\n",
    "    pvalue_ac = (1-fdist_ac.cdf(fSN_ac))\n",
    "else:\n",
    "    pvalue_ac = fdist_ac.cdf(fSN_ac)\n",
    "    \n",
    "print (\"Pvalue AC = %0.3f\" % (pvalue_ac))\n",
    "\n",
    "\n",
    "##############\n",
    "\n",
    "print (\"F Signal/Noise BC = %0.2f \" % fSN_bc)\n",
    "\n",
    "fdist_bc = stats.f(v_bc,v_error)\n",
    "fhigh_bc = fdist_bc.ppf(1-alpha)\n",
    "\n",
    "print (\"Critical F-value BC = %0.2f\" % (fhigh_bc))\n",
    "\n",
    "if (fSN_bc > 1):\n",
    "    pvalue_bc = (1-fdist_bc.cdf(fSN_bc))\n",
    "else:\n",
    "    pvalue_bc = fdist_bc.cdf(fSN_bc)\n",
    "    \n",
    "print (\"Pvalue BC = %0.3f\" % (pvalue_bc))\n",
    "\n",
    "##############\n",
    "\n",
    "print (\"F Signal/Noise ABC = %0.2f \" % fSN_abc)\n",
    "\n",
    "fdist_abc = stats.f(v_abc,v_error)\n",
    "fhigh_abc = fdist_abc.ppf(1-alpha)\n",
    "\n",
    "print (\"Critical F-value ABC = %0.2f\" % (fhigh_abc))\n",
    "\n",
    "if (fSN_abc > 1):\n",
    "    pvalue_abc = (1-fdist_abc.cdf(fSN_abc))\n",
    "else:\n",
    "    pvalue_abc = fdist_abc.cdf(fSN_abc)\n",
    "    \n",
    "print (\"Pvalue ABC = %0.3f\" % (pvalue_abc))\n",
    "\n",
    "##############\n",
    "\n",
    "# Print table\n",
    "print()\n",
    "print (\"Source     df     Sum of Squares   Mean Square       f     P-value\")\n",
    "print (\"A          %0.0f       %0.2f           %0.2f       %0.2f    %0.3f\" %(v_a,SS_a,MS_a,fSN_a,pvalue_a))\n",
    "print (\"B          %0.0f       %0.2f      %0.2f     %0.2f    %0.3f\" %(v_b,SS_b,MS_b,fSN_b,pvalue_b))\n",
    "print (\"C          %0.0f       %0.2f        %0.2f      %0.2f    %0.3f\" %(v_c,SS_c,MS_c,fSN_c,pvalue_c))\n",
    "print (\"AB         %0.0f       %0.2f           %0.2f       %0.2f    %0.3f\" %(v_ab,SS_ab,MS_ab,fSN_ab,pvalue_ab))\n",
    "print (\"AC         %0.0f       %0.2f            %0.2f       %0.2f    %0.3f\" %(v_ac,SS_ac,MS_ac,fSN_ac,pvalue_ac))\n",
    "print (\"BC         %0.0f       %0.2f          %0.2f      %0.2f    %0.3f\" %(v_bc,SS_bc,MS_bc,fSN_bc,pvalue_bc))\n",
    "print (\"ABC        %0.0f       %0.2f           %0.2f       %0.2f    %0.3f\" %(v_abc,SS_abc,MS_abc,fSN_abc,pvalue_abc))\n",
    "print (\"Error      %0.0f      %0.2f           %0.2f\" %(v_error,SS_error,MS_error))\n",
    "print (\"Total      %0.0f     %0.2f\" %(v_total,SS_total))"
   ]
  },
  {
   "cell_type": "markdown",
   "metadata": {},
   "source": [
    "# Question 8\n",
    "\n",
    "In an automated chemical coating process, the speed with which objects on a conveyor belt are passed through a chemical spray (belt speed), the amount of chemical sprayed (spray volume), and the brand of chemical used (brand) are factors that may affect the uniformity of the coating applied. A replicated $2^3$ experiment was conducted in an effort to increase the coating uniformity. In the following table, higher values of the response variable are associated with higher surface uniformity.\n",
    "\n",
    "Analyze this data and state your conclusions. Let A = spray volume, B = belt speed, C = brand. (Use α = 0.05. Give answers accurate to 2 decimal places and Df as exact integers.)"
   ]
  },
  {
   "cell_type": "code",
   "execution_count": 20,
   "metadata": {},
   "outputs": [
    {
     "name": "stdout",
     "output_type": "stream",
     "text": [
      "                   df   sum_sq  mean_sq           F        PR(>F)\n",
      "C(SV)             1.0    30.25    30.25    6.722222  3.197737e-02\n",
      "C(BS)             1.0   144.00   144.00   32.000000  4.776141e-04\n",
      "C(B)              1.0    12.25    12.25    2.722222  1.375685e-01\n",
      "C(SV):C(BS)       1.0  1122.25  1122.25  249.388889  2.584228e-07\n",
      "C(SV):C(B)        1.0     1.00     1.00    0.222222  6.499402e-01\n",
      "C(BS):C(B)        1.0    12.25    12.25    2.722222  1.375685e-01\n",
      "C(SV):C(BS):C(B)  1.0    16.00    16.00    3.555556  9.607159e-02\n",
      "Residual          8.0    36.00     4.50         NaN           NaN\n"
     ]
    }
   ],
   "source": [
    "xijk = np.array([[40,1,1,1],[36,1,1,1],[25,2,1,1],[28,2,1,1],\n",
    "                [30,1,2,1],[32,1,2,1],[50,2,2,1],[48,2,2,1],\n",
    "                [45,1,1,2],[43,1,1,2],[25,2,1,2],[30,2,1,2],\n",
    "                [30,1,2,2],[29,1,2,2],[52,2,2,2],[49,2,2,2]])\n",
    "\n",
    "df = pd.DataFrame(xijk,columns=['value','SV','BS','B'])\n",
    "\n",
    "formula = 'value ~ C(SV) + C(BS) + C(B) + C(SV):C(BS) + C(SV):C(B) + C(BS):C(B) + C(SV):C(BS):C(B)'\n",
    "lm = ols(formula,df).fit()\n",
    "anovaResults = anova_lm(lm)\n",
    "print (anovaResults)"
   ]
  },
  {
   "cell_type": "code",
   "execution_count": null,
   "metadata": {},
   "outputs": [],
   "source": []
  }
 ],
 "metadata": {
  "kernelspec": {
   "display_name": "Python 3",
   "language": "python",
   "name": "python3"
  },
  "language_info": {
   "codemirror_mode": {
    "name": "ipython",
    "version": 3
   },
   "file_extension": ".py",
   "mimetype": "text/x-python",
   "name": "python",
   "nbconvert_exporter": "python",
   "pygments_lexer": "ipython3",
   "version": "3.7.6"
  }
 },
 "nbformat": 4,
 "nbformat_minor": 2
}
