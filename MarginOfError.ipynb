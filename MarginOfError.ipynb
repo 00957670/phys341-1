{
 "cells": [
  {
   "cell_type": "markdown",
   "metadata": {},
   "source": [
    "# Margin of Error\n",
    "\n",
    "In sampling experiments (e.g. election polling, census data, etc.), oftentimes the data are presented as percentages.  We can think of these percentages as measured probabilites of a certain outcome in the experiment.\n",
    "\n",
    "The question is:  What is the uncertainty in the measured probability?  That is, what is the uncertainty in the mean value of the probability?\n",
    "\n",
    "The answer to this question depends on three things:\n",
    "\n",
    "1.  What is the sample size, N?\n",
    "2.  What is the probability of the outcome, p?\n",
    "3.  How confident do we need to be in reporting our result (indicated by $\\alpha$)?"
   ]
  },
  {
   "cell_type": "markdown",
   "metadata": {},
   "source": [
    "The margin of error (i.e. the uncertainty in the mean) is defined by:\n",
    "\n",
    "$MOE = z_\\gamma \\times \\sqrt{\\frac{\\sigma^2}{N}}$\n",
    "\n",
    "where $z_\\gamma$ is the z value associated with the confidence level (1-$\\alpha$) that we have chosen, and $\\sigma^2$ is the variance of the measured probability distribution.\n",
    "\n",
    "For a binomial or Bernouilli distribution, $\\sigma^2 = p(1-p)$."
   ]
  },
  {
   "cell_type": "code",
   "execution_count": 3,
   "metadata": {},
   "outputs": [],
   "source": [
    "import numpy as np\n",
    "import matplotlib.pyplot as plt\n",
    "import scipy.stats as stats"
   ]
  },
  {
   "cell_type": "code",
   "execution_count": 7,
   "metadata": {},
   "outputs": [
    {
     "name": "stdout",
     "output_type": "stream",
     "text": [
      "Measured probability =  0.43  +/-  0.0133147328885919\n"
     ]
    }
   ],
   "source": [
    "# Example:  On August 3rd, 2020, it was reported that of the 982 new COVID-19 cases in Virginia for that day, 43%\n",
    "#           were in the Hampton Roads region.\n",
    "\n",
    "p = 0.43\n",
    "N = 982\n",
    "alpha = 0.05\n",
    "\n",
    "confidence_level = 1 - alpha\n",
    "\n",
    "z_gamma = stats.norm.ppf(confidence_level+alpha/2) #We expect alpha/2 both above and below the confidence interval.\n",
    "\n",
    "sigma2 = p*(1-p)\n",
    "\n",
    "MOE = z_gamma * np.sqrt(sigma2/N)\n",
    "\n",
    "print (\"Measured probability = \",p,\" +/- \",MOE*p)"
   ]
  },
  {
   "cell_type": "markdown",
   "metadata": {},
   "source": [
    "What value do we expect?  To estimate this, we would need to know the population of Virginia, and the population of Hampton Roads.  The former is 8.536 million, as of 2019, and the latter is 1.78 million, as of this year.\n",
    "\n",
    "Thus, the expected probability, based only on population, is $p_{theory} = 0.208$."
   ]
  },
  {
   "cell_type": "code",
   "execution_count": null,
   "metadata": {},
   "outputs": [],
   "source": []
  }
 ],
 "metadata": {
  "kernelspec": {
   "display_name": "Python 3",
   "language": "python",
   "name": "python3"
  },
  "language_info": {
   "codemirror_mode": {
    "name": "ipython",
    "version": 3
   },
   "file_extension": ".py",
   "mimetype": "text/x-python",
   "name": "python",
   "nbconvert_exporter": "python",
   "pygments_lexer": "ipython3",
   "version": "3.6.8"
  }
 },
 "nbformat": 4,
 "nbformat_minor": 2
}
