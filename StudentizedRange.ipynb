{
 "cells": [
  {
   "cell_type": "code",
   "execution_count": 49,
   "metadata": {},
   "outputs": [],
   "source": [
    "import numpy as np\n",
    "import matplotlib.pyplot as plt\n",
    "import scipy.stats as stats \n",
    "from scipy.special import gamma\n",
    "\n",
    "def q_tukey(k, v, alpha):\n",
    "\n",
    "    qarray = []\n",
    "    for k in range(2,k+1):\n",
    "        print (\"q_tukey: calculating k = \",k)\n",
    "\n",
    "        dq = 0.004\n",
    "        qd = np.array(np.arange(0.000,6.000,dq))\n",
    "\n",
    "        f = []\n",
    "        fs = []\n",
    "        found = False\n",
    "\n",
    "        for i in range(len(qd)):\n",
    "            q = qd[i]\n",
    "            prefactor = np.sqrt(2.0*np.pi)*k*(k-1)*v**(v/2.0)/(gamma(v/2.0)*2**(v/2.0-1))\n",
    "            npts = 30\n",
    "\n",
    "            xh = 5.0\n",
    "            xl = 0.0\n",
    "            dx = (xh-xl)/npts\n",
    "\n",
    "            x = np.arange(xl,xh,dx)\n",
    "            x = x.reshape(1,-1)\n",
    "    \n",
    "            ul = -5.0\n",
    "            uh = 5.0\n",
    "            du = (uh-ul)/npts\n",
    "            \n",
    "            u = np.arange(ul,uh,du)\n",
    "            u = u.reshape(-1,1)\n",
    "            \n",
    "            phi_u = stats.norm.pdf(u)\n",
    "            phi_ux = stats.norm.pdf(u-q*x)\n",
    "            Phi_u = stats.norm.cdf(u)\n",
    "            Phi_ux = stats.norm.cdf(u-q*x)\n",
    "            phi_x = stats.norm.pdf(np.sqrt(v)*x)\n",
    "            \n",
    "            integrand = x**v*phi_x*phi_u*phi_ux*(Phi_u-Phi_ux)**(k-2)*du*dx\n",
    "            \n",
    "            #print (\"U integral matrix\")\n",
    "            #print(u,phi_u,phi_ux,Phi_u,Phi_ux,phi_x,x**v,integrand)\n",
    "        \n",
    "            sumux = integrand.sum()\n",
    "            \n",
    "            #print (\"U sum\")\n",
    "            #print(sumux)\n",
    "            \n",
    "            #print (\"X sum * prefactor\")\n",
    "            #print (sumux*prefactor)\n",
    "\n",
    "            f.append(sumux*prefactor)\n",
    "            \n",
    "            if (i>0):\n",
    "                fs.append(f[i]*dq+fs[i-1])\n",
    "            else:\n",
    "                fs.append(f[i]*dq)\n",
    "\n",
    "            if (fs[i]>(1-alpha) and not(found)):\n",
    "                q_critical = qd[i-1] + ((1-alpha)-fs[i-1])*(qd[i]-qd[i-1])/(fs[i]-fs[i-1])\n",
    "                print (\"q_critical = \",q_critical)\n",
    "                found = True\n",
    "        \n",
    "            #print(q,f[i],fs[i])\n",
    "            \n",
    "        qarray.append(q_critical)\n",
    "    \n",
    "        f = np.array(f)\n",
    "        fs = np.array(fs)\n",
    "        plt.plot(qd,fs)\n",
    "\n",
    "    qarray=np.array(qarray)\n",
    "    return qarray"
   ]
  },
  {
   "cell_type": "code",
   "execution_count": 51,
   "metadata": {},
   "outputs": [
    {
     "name": "stdout",
     "output_type": "stream",
     "text": [
      "q_tukey: calculating k =  2\n",
      "q_critical =  2.8799991632834776\n",
      "q_tukey: calculating k =  3\n",
      "q_critical =  3.4974114372509093\n",
      "q_tukey: calculating k =  4\n",
      "q_critical =  3.8594060354144495\n",
      "q_tukey: calculating k =  5\n",
      "q_critical =  4.118481364813626\n",
      "[2.87999916 3.49741144 3.85940604 4.11848136]\n"
     ]
    },
    {
     "data": {
      "image/png": "[encoded data removed]",
      "text/plain": [
       "<Figure size 432x288 with 1 Axes>"
      ]
     },
     "metadata": {
      "needs_background": "light"
     },
     "output_type": "display_data"
    }
   ],
   "source": [
    "alpha = 0.05\n",
    "k = 5\n",
    "v = 28\n",
    "\n",
    "qarray = q_tukey(k, v, alpha)\n",
    "\n",
    "print (qarray)"
   ]
  },
  {
   "cell_type": "code",
   "execution_count": null,
   "metadata": {},
   "outputs": [],
   "source": []
  }
 ],
 "metadata": {
  "kernelspec": {
   "display_name": "Python 3",
   "language": "python",
   "name": "python3"
  },
  "language_info": {
   "codemirror_mode": {
    "name": "ipython",
    "version": 3
   },
   "file_extension": ".py",
   "mimetype": "text/x-python",
   "name": "python",
   "nbconvert_exporter": "python",
   "pygments_lexer": "ipython3",
   "version": "3.6.8"
  }
 },
 "nbformat": 4,
 "nbformat_minor": 2
}
