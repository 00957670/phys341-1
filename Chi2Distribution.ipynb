{
 "cells": [
  {
   "cell_type": "markdown",
   "metadata": {},
   "source": [
    "# The $\\chi^2$ Distribution\n",
    "\n",
    "The $\\chi^2$ distribution is the distribution of the values of $X^2$, when $X$ represents a sample from a normal/Gaussian distribution.  "
   ]
  },
  {
   "cell_type": "code",
   "execution_count": 120,
   "metadata": {},
   "outputs": [
    {
     "name": "stdout",
     "output_type": "stream",
     "text": [
      "Mean =  87.89022907705471  Std. Dev. =  27.415349341655524\n"
     ]
    },
    {
     "data": {
      "image/png": "[encoded data removed]",
      "text/plain": [
       "<Figure size 432x288 with 1 Axes>"
      ]
     },
     "metadata": {
      "needs_background": "light"
     },
     "output_type": "display_data"
    }
   ],
   "source": [
    "# Import the required packages, \n",
    "# with their conventional names \n",
    "import matplotlib.pyplot as plt \n",
    "import numpy as np \n",
    "import scipy.stats as stats \n",
    "\n",
    "# Generate some data ... 10 samples chosen from a Gaussian distribution with a mean of 100 and a sigma of 30.\n",
    "npts = 4\n",
    "mu = 100.0\n",
    "sigma = 30.0\n",
    "x = stats.norm.rvs(size=npts,loc=mu,scale=sigma)\n",
    "\n",
    "plt.hist(x,bins=50)\n",
    "\n",
    "# calculate the sample mean, and the sample standard deviation (unbiased).\n",
    "xbar = np.mean(x)\n",
    "s = np.std(x,ddof=1)\n",
    "\n",
    "print (\"Mean = \",xbar,\" Std. Dev. = \",s)"
   ]
  },
  {
   "cell_type": "markdown",
   "metadata": {},
   "source": [
    "The question that we wish to answer is:  is the value of $s$ that we measure (the SAMPLE standard deviation) consistent with the population standard deviation that we expect, $\\sigma$?\n",
    "\n",
    "We can answer this question using the $\\chi^2$ distribution.\n",
    "\n",
    "The test statistic is the variable, $\\chi^2$, which is defined as the ratio of the sample variance to the expected population variance, multiplied by the number of degrees of freedom."
   ]
  },
  {
   "cell_type": "code",
   "execution_count": 121,
   "metadata": {},
   "outputs": [
    {
     "name": "stdout",
     "output_type": "stream",
     "text": [
      "Chi^2 statistic =  2.50533793175004\n"
     ]
    }
   ],
   "source": [
    "df = npts - 1\n",
    "chi2_data = df*s**2/sigma**2\n",
    "\n",
    "print (\"Chi^2 statistic = \",chi2_data)"
   ]
  },
  {
   "cell_type": "markdown",
   "metadata": {},
   "source": [
    "# plot the $\\chi^2$ distribution"
   ]
  },
  {
   "cell_type": "code",
   "execution_count": 122,
   "metadata": {},
   "outputs": [
    {
     "name": "stdout",
     "output_type": "stream",
     "text": [
      "7.814727903251179 0.35184631774927144\n"
     ]
    },
    {
     "data": {
      "text/plain": [
       "<matplotlib.legend.Legend at 0x7f0b125da978>"
      ]
     },
     "execution_count": 122,
     "metadata": {},
     "output_type": "execute_result"
    },
    {
     "data": {
      "image/png": "[encoded data removed]",
      "text/plain": [
       "<Figure size 432x288 with 1 Axes>"
      ]
     },
     "metadata": {
      "needs_background": "light"
     },
     "output_type": "display_data"
    }
   ],
   "source": [
    "df = npts -1\n",
    "x = np.linspace(stats.chi2.ppf(0.001, df),stats.chi2.ppf(0.999, df), 1000)\n",
    "chi2_dist = stats.chi2.pdf(x,df)\n",
    "\n",
    "chi2_stat_line_x = np.array([chi2_data,chi2_data])\n",
    "chi2_stat_line_y = np.array([0,stats.chi2.pdf(chi2_data,df)])\n",
    "\n",
    "alpha = 0.10\n",
    "\n",
    "chi2_upper = stats.chi2.ppf(1-alpha/2,df)\n",
    "chi2_lower = stats.chi2.ppf(alpha/2,df)\n",
    "\n",
    "print(chi2_lower, chi2_upper)\n",
    "\n",
    "chi2_upper_line_x = np.array([chi2_upper,chi2_upper])\n",
    "chi2_upper_line_y = np.array([0,stats.chi2.pdf(chi2_upper,df)])\n",
    "\n",
    "chi2_lower_line_x = np.array([chi2_lower,chi2_lower])\n",
    "chi2_lower_line_y = np.array([0,stats.chi2.pdf(chi2_lower,df)])\n",
    "\n",
    "plt.plot(x,chi2_dist)\n",
    "plt.plot(chi2_stat_line_x,chi2_stat_line_y,label=\"Experimental Value\")\n",
    "plt.plot(chi2_upper_line_x,chi2_upper_line_y,label=\"Chi^2 Upper Limit\")\n",
    "plt.plot(chi2_lower_line_x,chi2_lower_line_y,label=\"Chi^2 Lower Limit\")\n",
    "plt.legend()"
   ]
  },
  {
   "cell_type": "code",
   "execution_count": null,
   "metadata": {},
   "outputs": [],
   "source": []
  },
  {
   "cell_type": "code",
   "execution_count": null,
   "metadata": {},
   "outputs": [],
   "source": []
  }
 ],
 "metadata": {
  "kernelspec": {
   "display_name": "Python 3",
   "language": "python",
   "name": "python3"
  },
  "language_info": {
   "codemirror_mode": {
    "name": "ipython",
    "version": 3
   },
   "file_extension": ".py",
   "mimetype": "text/x-python",
   "name": "python",
   "nbconvert_exporter": "python",
   "pygments_lexer": "ipython3",
   "version": "3.6.8"
  }
 },
 "nbformat": 4,
 "nbformat_minor": 2
}
