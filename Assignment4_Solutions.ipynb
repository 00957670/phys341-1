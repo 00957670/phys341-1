{
 "cells": [
  {
   "cell_type": "markdown",
   "metadata": {},
   "source": [
    "# Assignment 4 Solutions\n",
    "\n",
    "In performing a two-sample t-test, there are two distinct situations to consider:\n",
    "\n",
    "1.  The variances of the two samples are equal to one another (i.e. we are sampling from the same population).\n",
    "2.  The variances of the two samples are not equal to one another (i.e. we are sampling from two different populations).\n",
    "\n",
    "For this assignment, the textbook assumes always that situation 2 is the case!!!!!\n",
    "\n",
    "In these instances, we calculate the standard error in the mean (SEM) and the combined number of degrees of freedom as follows:\n",
    "\n",
    "$SEM = \\sqrt{\\frac{s_1^2}{n_1} + \\frac{s_2^2}{n_2}}$\n",
    "\n",
    "$df = \\frac{ \\left( \\frac{s_1^2}{n_1} + \\frac{s_2^2}{n_2}    \\right)^2 }{\\frac{ \\left(\\frac{s_1^2}{n_1}\\right)^2   }{n_1-1} + \\frac{ \\left(\\frac{s_2^2}{n_2}\\right)^2   }{n_2-1}}$"
   ]
  },
  {
   "cell_type": "code",
   "execution_count": 1,
   "metadata": {},
   "outputs": [],
   "source": [
    "import numpy as np\n",
    "import scipy.stats as stats\n",
    "import matplotlib.pyplot as plt\n",
    "\n",
    "def sem_neq(n1,n2,s1,s2):\n",
    "    sm = np.sqrt(s1**2/n1+s2**2/n2)\n",
    "    return float(sm)\n",
    "\n",
    "def ndof_neq(n1,n2,s1,s2):\n",
    "    v1 = s1**2/n1\n",
    "    v2 = s2**2/n2\n",
    "    dof = (v1+v2)**2/(v1**2/(n1-1)+v2**2/(n2-1))\n",
    "    return int(dof)\n",
    "\n",
    "def sem_eq(n1,n2,s1,s2):\n",
    "    sp = np.sqrt(((n1-1)*s1**2+(n2-1)*s2**2)/(n1+n2-2))\n",
    "    sm = sp*np.sqrt(1.0/n1+1.0/n2)\n",
    "    return float(sm)\n",
    "\n",
    "def ndof_eq(n1,n2,s1,s2):\n",
    "    dof = n2+n1-2\n",
    "    return int(dof)"
   ]
  },
  {
   "cell_type": "markdown",
   "metadata": {},
   "source": [
    "# Question 1"
   ]
  },
  {
   "cell_type": "markdown",
   "metadata": {},
   "source": [
    "Determine the number of degrees of freedom for the two-sample t test or CI in each of the following situations. \n",
    "(Exact integer answers required.)\n",
    "\n",
    "(a) m = 10, n = 13, s1 = 4.8, s2 = 5.7\n",
    "\n",
    "\n",
    "(b) m = 14, n = 23, s1 = 5.1, s2 = 5.8\n",
    "\n",
    "\n",
    "(c) m = 6, n = 7, s1 = 2.3, s2 = 6.2\n",
    "\n",
    "\n",
    "(d) m = 10, n = 23, s1 = 4.1, s2 = 6.6"
   ]
  },
  {
   "cell_type": "code",
   "execution_count": null,
   "metadata": {},
   "outputs": [],
   "source": []
  },
  {
   "cell_type": "code",
   "execution_count": 2,
   "metadata": {},
   "outputs": [
    {
     "name": "stdout",
     "output_type": "stream",
     "text": [
      "20\n",
      "30\n",
      "7\n",
      "26\n"
     ]
    }
   ],
   "source": [
    "print (ndof_neq(10,13,4.8,5.7))\n",
    "print (ndof_neq(14,23,5.1,5.8))\n",
    "print (ndof_neq(6,7,2.3,6.2))\n",
    "print (ndof_neq(10,23,4.1,6.6))"
   ]
  },
  {
   "cell_type": "markdown",
   "metadata": {},
   "source": [
    "# Question 2\n",
    "\n",
    "Let μ1 and μ2 denote true average densities for two different types of brick. Assuming normality of the two density distributions, test Ho: μ1 – μ2 = 0 versus Ha: μ1 – μ2 ≠ 0 using the following data: m = 6, x = 22.27, s1 = 0.156, n = 5, y = 20.22, and s2 = 0.234. (Use α = 0.05. Give ν to exact integer and t to 2 decimal places.)"
   ]
  },
  {
   "cell_type": "code",
   "execution_count": 3,
   "metadata": {},
   "outputs": [
    {
     "name": "stdout",
     "output_type": "stream",
     "text": [
      "DF, T = 6, 16.73\n",
      "P-value = 0.000\n",
      "Reject the null hypothesis!\n"
     ]
    }
   ],
   "source": [
    "n1 = 6\n",
    "n2 = 5\n",
    "s1 = 0.156\n",
    "s2 = 0.234\n",
    "\n",
    "xbar1 = 22.27\n",
    "xbar2 = 20.22\n",
    "\n",
    "df = ndof_neq(n1,n2,s1,s2)\n",
    "sm = sem_neq(n1,n2,s1,s2)\n",
    "\n",
    "tvalue = (xbar1-xbar2)/sm\n",
    "\n",
    "print (\"DF, T = %0.0f, %0.2f\" % (df,tvalue))\n",
    "\n",
    "tdist = stats.t(df)\n",
    "\n",
    "pvalue = 2.0*tdist.cdf(-np.abs(tvalue))\n",
    "print (\"P-value = %0.3f\" % pvalue)\n",
    "print (\"Reject the null hypothesis!\")"
   ]
  },
  {
   "cell_type": "markdown",
   "metadata": {},
   "source": [
    "# Question 3\n",
    "\n",
    "Quantitative noninvasive techniques are needed for routinely assessing symptoms of peripheral neuropathies, such as carpal tunnel syndrome (CTS). An article reported on a test that involved sensing a tiny gap in an otherwise smooth surface by probing with a finger; this functionally resembles many work-related tactile activities, such as detecting scratches or surface defects. When finger probing was not allowed, the sample average gap detection threshold for m = 8 normal subjects was 1.8 mm, and the sample standard deviation was 0.49; for n = 12 CTS subjects, the sample mean and sample standard deviation were 2.52 and 0.85, respectively. Does this data suggest that the true average gap detection threshold for CTS subjects exceeds that for normal subjects? State and test the relevant hypotheses using a significance level of .01. (Give answers accurate to 2 decimal places.)"
   ]
  },
  {
   "cell_type": "code",
   "execution_count": 4,
   "metadata": {},
   "outputs": [
    {
     "name": "stdout",
     "output_type": "stream",
     "text": [
      "DF, T = 17, 2.40\n",
      "P-value = 0.014\n",
      "T_critical = 2.57\n",
      "Fail to reject the null hypothesis ... P-value is greater than alpha\n"
     ]
    }
   ],
   "source": [
    "n1 = 8\n",
    "n2 = 12\n",
    "s1 = 0.49\n",
    "s2 = 0.85\n",
    "\n",
    "xbar1 = 1.8\n",
    "xbar2 = 2.52\n",
    "\n",
    "alpha = 0.01\n",
    "\n",
    "df = ndof_neq(n1,n2,s1,s2)\n",
    "sm = sem_neq(n1,n2,s1,s2)\n",
    "\n",
    "tvalue = (xbar2-xbar1)/sm\n",
    "\n",
    "print (\"DF, T = %0.0f, %0.2f\" % (df,tvalue))\n",
    "\n",
    "tdist = stats.t(df)\n",
    "\n",
    "pvalue = tdist.cdf(-np.abs(tvalue))\n",
    "\n",
    "# We are interested in the \">\" case, so the critical t-value occurs when the integral of the\n",
    "# disribution has reached (1-alpha)\n",
    "tcritical = tdist.ppf(1-alpha)\n",
    "\n",
    "print (\"P-value = %0.3f\" % pvalue)\n",
    "print (\"T_critical = %0.2f\" % tcritical)\n",
    "\n",
    "if (pvalue < alpha):\n",
    "    print (\"Reject the null hypothesis ... P-value is less than alpha\")\n",
    "else:\n",
    "    print (\"Fail to reject the null hypothesis ... P-value is greater than alpha\")"
   ]
  },
  {
   "cell_type": "markdown",
   "metadata": {},
   "source": [
    "# Question 4\n",
    "\n",
    "The slant shear test is widely accepted for evaluating the bond of resinous repair materials to concrete; it utilizes cylinder specimens made of two identical halves bonded at 30°. For 12 specimens prepared using wire-brushing, the sample mean shear strength (N/mm2) and sample standard deviation were 18.23 and 1.48, respectively, whereas for 12 hand-chiseled specimens, the corresponding values were 23.47 and 4.01. Does the true average strength appear to be different for the two methods of surface preparation? Test the relevant hypotheses using a significance level of .05. (Give ν to exact integer and t to 2 decimal places.)"
   ]
  },
  {
   "cell_type": "code",
   "execution_count": null,
   "metadata": {},
   "outputs": [],
   "source": []
  },
  {
   "cell_type": "code",
   "execution_count": 5,
   "metadata": {},
   "outputs": [
    {
     "name": "stdout",
     "output_type": "stream",
     "text": [
      "Unequal Variances:\n",
      "DF, T = 13, -4.25\n",
      "P-value = 0.000953\n",
      "T_critical_values = -2.16, 2.16\n",
      "Reject the null hypothesis ... P-value is less than alpha\n",
      "\n",
      "Python stats package result (unequal variancs):\n",
      "T-value = -4.25, P-value = 0.000821\n",
      "\n",
      "Equal Variances:\n",
      "DF, T = 22, -4.25\n",
      "P-value = 0.000330\n",
      "T_critical_values = -2.07, 2.07\n",
      "Reject the null hypothesis ... P-value is less than alpha\n",
      "\n",
      "Python stats package result (equal variances):\n",
      "T-value = -4.25, P-value = 0.000330\n"
     ]
    }
   ],
   "source": [
    "n1 = 12\n",
    "n2 = 12\n",
    "s1 = 1.48\n",
    "s2 = 4.01\n",
    "\n",
    "xbar1 = 18.23\n",
    "xbar2 = 23.47\n",
    "\n",
    "alpha = 0.05\n",
    "\n",
    "df = ndof_neq(n1,n2,s1,s2)\n",
    "sm = sem_neq(n1,n2,s1,s2)\n",
    "\n",
    "tvalue = (xbar1-xbar2)/sm\n",
    "\n",
    "print (\"Unequal Variances:\")\n",
    "print (\"DF, T = %0.0f, %0.2f\" % (df,tvalue))\n",
    "\n",
    "tdist = stats.t(df)\n",
    "\n",
    "pvalue = 2.0*tdist.cdf(-np.abs(tvalue))\n",
    "\n",
    "# We are interested in the \"=\" case, so the critical t-values occur when the integral of the\n",
    "# disribution has reached alpha/2, and (1-alpha/2)\n",
    "tlow = tdist.ppf(alpha/2)\n",
    "thigh = tdist.ppf(1-alpha/2)\n",
    "\n",
    "print (\"P-value = %0.6f\" % pvalue)\n",
    "print (\"T_critical_values = %0.2f, %0.2f\" % (tlow,thigh))\n",
    "\n",
    "if (pvalue < alpha):\n",
    "    print (\"Reject the null hypothesis ... P-value is less than alpha\")\n",
    "else:\n",
    "    print (\"Fail to reject the null hypothesis ... P-value is greater than alpha\")\n",
    "    \n",
    "\n",
    "# Python stats package\n",
    "print()\n",
    "print (\"Python stats package result (unequal variancs):\")\n",
    "t, pVal = stats.ttest_ind_from_stats(xbar1,s1,n1,xbar2,s2,n2,equal_var=False)\n",
    "print (\"T-value = %0.2f, P-value = %0.6f\" % (t,pVal))\n",
    "    \n",
    "    \n",
    "# Now, let us compare with the equal variance assumption\n",
    "#\n",
    "df = ndof_eq(n1,n2,s1,s2)\n",
    "sm = sem_eq(n1,n2,s1,s2)\n",
    "\n",
    "tvalue = (xbar1-xbar2)/sm\n",
    "\n",
    "print()\n",
    "print (\"Equal Variances:\")\n",
    "print (\"DF, T = %0.0f, %0.2f\" % (df,tvalue))\n",
    "\n",
    "tdist = stats.t(df)\n",
    "\n",
    "pvalue = 2.0*tdist.cdf(-np.abs(tvalue))\n",
    "\n",
    "# We are interested in the \"=\" case, so the critical t-values occur when the integral of the\n",
    "# disribution has reached alpha/2, and (1-alpha/2)\n",
    "tlow = tdist.ppf(alpha/2)\n",
    "thigh = tdist.ppf(1-alpha/2)\n",
    "\n",
    "print (\"P-value = %0.6f\" % pvalue)\n",
    "print (\"T_critical_values = %0.2f, %0.2f\" % (tlow,thigh))\n",
    "\n",
    "if (pvalue < alpha):\n",
    "    print (\"Reject the null hypothesis ... P-value is less than alpha\")\n",
    "else:\n",
    "    print (\"Fail to reject the null hypothesis ... P-value is greater than alpha\")\n",
    "\n",
    "\n",
    "# Python stats package\n",
    "print()\n",
    "print (\"Python stats package result (equal variances):\")\n",
    "t, pVal = stats.ttest_ind_from_stats(xbar1,s1,n1,xbar2,s2,n2,equal_var=True)\n",
    "print (\"T-value = %0.2f, P-value = %0.6f\" % (t,pVal))\n"
   ]
  },
  {
   "cell_type": "markdown",
   "metadata": {},
   "source": [
    "# Question 5\n",
    "\n",
    "Consider the accompanying data on breaking load (kg/25 mm width) for various fabrics in both an unabraded condition and an abraded condition. Use the paired t test to test Ho: μD = 0 versus Ha: μD > 0 at significance level .01. (Give answers accurate to 2 decimal places.)"
   ]
  },
  {
   "cell_type": "code",
   "execution_count": 6,
   "metadata": {},
   "outputs": [
    {
     "name": "stdout",
     "output_type": "stream",
     "text": [
      "Critical t-value = 3.00\n",
      "T-value = 2.42, P-value = 0.092\n",
      "Reject the null hypothesis ... P-value is less than alpha\n"
     ]
    }
   ],
   "source": [
    "u = np.array([39.9,55.0,59.2,38.7,49.8,48.8,28.0,49.8])  \n",
    "a = np.array([22.2,20.0,42.3,34.5,33.5,52.5,29.5,46.5])\n",
    "\n",
    "diff = u - a\n",
    "mu = 0\n",
    "alpha = 0.01\n",
    "\n",
    "df = len(diff)-1\n",
    "tdist = stats.t(df)\n",
    "\n",
    "tcritical = tdist.ppf(1-alpha)\n",
    "print (\"Critical t-value = %0.2f\" % tcritical)\n",
    "\n",
    "t, pVal = stats.ttest_1samp(diff,mu)\n",
    "print (\"T-value = %0.2f, P-value = %0.3f\" % (t,2*pVal))\n",
    "if (pvalue < alpha):\n",
    "    print (\"Reject the null hypothesis ... P-value is less than alpha\")\n",
    "else:\n",
    "    print (\"Fail to reject the null hypothesis ... P-value is greater than alpha\")"
   ]
  },
  {
   "cell_type": "markdown",
   "metadata": {},
   "source": [
    "# Question 6\n",
    "\n",
    "Data on the modulus of elasticity obtained 1 minute after loading in a certain configuration and 4 weeks after loading for the same lumber specimens is presented here.\n",
    "\n",
    "Calculate and interpret an upper confidence bound for the true average difference between 1-minute modulus and 4-week modulus; first check the plausibility of any necessary assumptions. (Use α = 0.05. Round your answer to the nearest whole number.)\n",
    "\n",
    "The data for this question is stored in a local file called A4Q6.csv"
   ]
  },
  {
   "cell_type": "code",
   "execution_count": 17,
   "metadata": {},
   "outputs": [
    {
     "data": {
      "text/html": [
       "<div>\n",
       "<style scoped>\n",
       "    .dataframe tbody tr th:only-of-type {\n",
       "        vertical-align: middle;\n",
       "    }\n",
       "\n",
       "    .dataframe tbody tr th {\n",
       "        vertical-align: top;\n",
       "    }\n",
       "\n",
       "    .dataframe thead th {\n",
       "        text-align: right;\n",
       "    }\n",
       "</style>\n",
       "<table border=\"1\" class=\"dataframe\">\n",
       "  <thead>\n",
       "    <tr style=\"text-align: right;\">\n",
       "      <th></th>\n",
       "      <th>Observation</th>\n",
       "      <th>1 min</th>\n",
       "      <th>4 weeks</th>\n",
       "      <th>Difference</th>\n",
       "    </tr>\n",
       "  </thead>\n",
       "  <tbody>\n",
       "    <tr>\n",
       "      <th>0</th>\n",
       "      <td>1</td>\n",
       "      <td>10245.0</td>\n",
       "      <td>9618.0</td>\n",
       "      <td>627.0</td>\n",
       "    </tr>\n",
       "    <tr>\n",
       "      <th>1</th>\n",
       "      <td>2</td>\n",
       "      <td>16620.0</td>\n",
       "      <td>13250.0</td>\n",
       "      <td>3370.0</td>\n",
       "    </tr>\n",
       "    <tr>\n",
       "      <th>2</th>\n",
       "      <td>3</td>\n",
       "      <td>17300.0</td>\n",
       "      <td>14720.0</td>\n",
       "      <td>2580.0</td>\n",
       "    </tr>\n",
       "    <tr>\n",
       "      <th>3</th>\n",
       "      <td>4</td>\n",
       "      <td>15999.0</td>\n",
       "      <td>12482.0</td>\n",
       "      <td>3517.0</td>\n",
       "    </tr>\n",
       "    <tr>\n",
       "      <th>4</th>\n",
       "      <td>5</td>\n",
       "      <td>12970.0</td>\n",
       "      <td>10120.0</td>\n",
       "      <td>2850.0</td>\n",
       "    </tr>\n",
       "  </tbody>\n",
       "</table>\n",
       "</div>"
      ],
      "text/plain": [
       "   Observation    1 min  4 weeks  Difference\n",
       "0            1  10245.0   9618.0       627.0\n",
       "1            2  16620.0  13250.0      3370.0\n",
       "2            3  17300.0  14720.0      2580.0\n",
       "3            4  15999.0  12482.0      3517.0\n",
       "4            5  12970.0  10120.0      2850.0"
      ]
     },
     "execution_count": 17,
     "metadata": {},
     "output_type": "execute_result"
    }
   ],
   "source": [
    "import pandas as pd\n",
    "\n",
    "df = pd.read_csv('/home/brash/Phys341/A4Q6.csv')\n",
    "df.head()"
   ]
  },
  {
   "cell_type": "code",
   "execution_count": 21,
   "metadata": {},
   "outputs": [
    {
     "name": "stdout",
     "output_type": "stream",
     "text": [
      "95 Percent Confidence Limit = (2856)\n",
      "For any value of mu greater than 2856, we reject the null hypothesis, at the 95 Percent confidence level.\n"
     ]
    }
   ],
   "source": [
    "diff = df.Difference\n",
    "xbar = diff.mean()\n",
    "sem = stats.sem(diff)\n",
    "dof = len(diff)-1\n",
    "\n",
    "alpha = 0.05\n",
    "cl = 1 - 2*alpha\n",
    "\n",
    "c_interval = stats.t.interval(cl,dof,loc=xbar,scale=sem)\n",
    "\n",
    "print (\"95 Percent Confidence Limit = (%0.0f)\" % c_interval[1])\n",
    "print (\"For any value of mu greater than %0.0f, we reject the null hypothesis, at the 95 Percent confidence level.\" % c_interval[1])"
   ]
  },
  {
   "cell_type": "code",
   "execution_count": null,
   "metadata": {},
   "outputs": [],
   "source": []
  }
 ],
 "metadata": {
  "kernelspec": {
   "display_name": "Python 3",
   "language": "python",
   "name": "python3"
  },
  "language_info": {
   "codemirror_mode": {
    "name": "ipython",
    "version": 3
   },
   "file_extension": ".py",
   "mimetype": "text/x-python",
   "name": "python",
   "nbconvert_exporter": "python",
   "pygments_lexer": "ipython3",
   "version": "3.6.8"
  }
 },
 "nbformat": 4,
 "nbformat_minor": 2
}
